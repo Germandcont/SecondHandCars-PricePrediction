{
 "cells": [
  {
   "cell_type": "code",
   "execution_count": 106,
   "metadata": {},
   "outputs": [],
   "source": [
    "import pandas as pd"
   ]
  },
  {
   "cell_type": "markdown",
   "metadata": {},
   "source": [
    "## Load Data"
   ]
  },
  {
   "cell_type": "code",
   "execution_count": 107,
   "metadata": {},
   "outputs": [],
   "source": [
    "df = pd.read_csv(r'C:\\Users\\Germán\\Github\\Proyecto2\\data\\vehiculos-de-segunda-mano-sample.csv')"
   ]
  },
  {
   "cell_type": "code",
   "execution_count": 108,
   "metadata": {},
   "outputs": [
    {
     "data": {
      "text/html": [
       "<div>\n",
       "<style scoped>\n",
       "    .dataframe tbody tr th:only-of-type {\n",
       "        vertical-align: middle;\n",
       "    }\n",
       "\n",
       "    .dataframe tbody tr th {\n",
       "        vertical-align: top;\n",
       "    }\n",
       "\n",
       "    .dataframe thead th {\n",
       "        text-align: right;\n",
       "    }\n",
       "</style>\n",
       "<table border=\"1\" class=\"dataframe\">\n",
       "  <thead>\n",
       "    <tr style=\"text-align: right;\">\n",
       "      <th></th>\n",
       "      <th>vehicle_type</th>\n",
       "      <th>make</th>\n",
       "      <th>model</th>\n",
       "      <th>version</th>\n",
       "      <th>fuel</th>\n",
       "      <th>year</th>\n",
       "      <th>kms</th>\n",
       "      <th>power</th>\n",
       "      <th>doors</th>\n",
       "      <th>shift</th>\n",
       "      <th>color</th>\n",
       "      <th>photos</th>\n",
       "      <th>description</th>\n",
       "      <th>price</th>\n",
       "      <th>currency</th>\n",
       "      <th>location</th>\n",
       "      <th>publish_date</th>\n",
       "      <th>update_date</th>\n",
       "      <th>dealer_name</th>\n",
       "      <th>dealer_description</th>\n",
       "      <th>dealer_address</th>\n",
       "      <th>dealer_zip_code</th>\n",
       "      <th>dealer_city</th>\n",
       "      <th>dealer_country_code</th>\n",
       "      <th>dealer_is_professional</th>\n",
       "      <th>dealer_website</th>\n",
       "      <th>dealer_registered_at</th>\n",
       "      <th>date</th>\n",
       "    </tr>\n",
       "  </thead>\n",
       "  <tbody>\n",
       "    <tr>\n",
       "      <th>0</th>\n",
       "      <td>car</td>\n",
       "      <td>Opel</td>\n",
       "      <td>Crossland</td>\n",
       "      <td>1.2 GAS 110 GS Line 5p S/S</td>\n",
       "      <td>Gasolina</td>\n",
       "      <td>2022</td>\n",
       "      <td>5.0</td>\n",
       "      <td>110.0</td>\n",
       "      <td>NaN</td>\n",
       "      <td>manual</td>\n",
       "      <td>NaN</td>\n",
       "      <td>10</td>\n",
       "      <td>OFERTA EXCLUSIVA DE INTERNET \\nNuevo Opel Crossland GSLINE 1.2 Turbo Gasolina 110cv manual de 6 velocidades.\\nVehículo dotado del siguiente equipamiento:\\nNUEVO A ESTRENAR, MATRICULADO EN FECHA 31.08.2022 \\nFAROS ECOLED\\nNAVEGADOR 5.0 INTELILINK\\nPILOTOS TRASEROS LED\\nCÁMARA DELANTERA (Alerta de Cambio Involuntario de Carril)\\nPANTALLA INTELILLINK R4.0 7” CON APPLE CAR PLAY &amp; ANDROID AUTO\\nFRENOS DE DISCO DELANTEROS Y TRASEROS \\nLLANTAS SPORT 17” COLO NEGRO DIAMANTE\\nSENSOR APARCAMIENTO TRASERO\\nKIT ANTIPINCHAZOS\\nANCLAJES ISOFIX PLAZAS TRASERAS\\nASIENTO AGR  (ASIENTOS ERGONÓMICO)\\nELEVALUNAS TRASEROS Y DELANTEROS ELÉCTRICOS\\nCLIMATIZADOR DIGITAL BIZONA\\nCONS</td>\n",
       "      <td>22900</td>\n",
       "      <td>EUR</td>\n",
       "      <td>Pineda de Mar</td>\n",
       "      <td>2023-02-04</td>\n",
       "      <td>2023-02-04</td>\n",
       "      <td>Sergio Y.</td>\n",
       "      <td>NaN</td>\n",
       "      <td>2, Carrer de Jacint Benavente, Poblenou, Pineda de Mar, Maresme, Barcelona, Catalunya, 08397, España</td>\n",
       "      <td>8397.0</td>\n",
       "      <td>Pineda de Mar</td>\n",
       "      <td>ES</td>\n",
       "      <td>True</td>\n",
       "      <td>www.cocheauto.com</td>\n",
       "      <td>2017-01-18</td>\n",
       "      <td>2023-02-06</td>\n",
       "    </tr>\n",
       "  </tbody>\n",
       "</table>\n",
       "</div>"
      ],
      "text/plain": [
       "  vehicle_type  make      model                     version      fuel  year  \\\n",
       "0          car  Opel  Crossland  1.2 GAS 110 GS Line 5p S/S  Gasolina  2022   \n",
       "\n",
       "   kms  power  doors   shift  color  photos  \\\n",
       "0  5.0  110.0    NaN  manual    NaN      10   \n",
       "\n",
       "                                                                                                                                                                                                                                                                                                                                                                                                                                                                                                                                                                                                                                                                                   description  \\\n",
       "0  OFERTA EXCLUSIVA DE INTERNET \\nNuevo Opel Crossland GSLINE 1.2 Turbo Gasolina 110cv manual de 6 velocidades.\\nVehículo dotado del siguiente equipamiento:\\nNUEVO A ESTRENAR, MATRICULADO EN FECHA 31.08.2022 \\nFAROS ECOLED\\nNAVEGADOR 5.0 INTELILINK\\nPILOTOS TRASEROS LED\\nCÁMARA DELANTERA (Alerta de Cambio Involuntario de Carril)\\nPANTALLA INTELILLINK R4.0 7” CON APPLE CAR PLAY & ANDROID AUTO\\nFRENOS DE DISCO DELANTEROS Y TRASEROS \\nLLANTAS SPORT 17” COLO NEGRO DIAMANTE\\nSENSOR APARCAMIENTO TRASERO\\nKIT ANTIPINCHAZOS\\nANCLAJES ISOFIX PLAZAS TRASERAS\\nASIENTO AGR  (ASIENTOS ERGONÓMICO)\\nELEVALUNAS TRASEROS Y DELANTEROS ELÉCTRICOS\\nCLIMATIZADOR DIGITAL BIZONA\\nCONS   \n",
       "\n",
       "   price currency       location publish_date update_date dealer_name  \\\n",
       "0  22900      EUR  Pineda de Mar   2023-02-04  2023-02-04   Sergio Y.   \n",
       "\n",
       "  dealer_description  \\\n",
       "0                NaN   \n",
       "\n",
       "                                                                                         dealer_address  \\\n",
       "0  2, Carrer de Jacint Benavente, Poblenou, Pineda de Mar, Maresme, Barcelona, Catalunya, 08397, España   \n",
       "\n",
       "   dealer_zip_code    dealer_city dealer_country_code  dealer_is_professional  \\\n",
       "0           8397.0  Pineda de Mar                  ES                    True   \n",
       "\n",
       "      dealer_website dealer_registered_at        date  \n",
       "0  www.cocheauto.com           2017-01-18  2023-02-06  "
      ]
     },
     "execution_count": 108,
     "metadata": {},
     "output_type": "execute_result"
    }
   ],
   "source": [
    "df.head(1)"
   ]
  },
  {
   "cell_type": "markdown",
   "metadata": {},
   "source": [
    "## Duplicados"
   ]
  },
  {
   "cell_type": "code",
   "execution_count": 109,
   "metadata": {},
   "outputs": [],
   "source": [
    "# Eliminamos duplicados \n",
    "df = df.drop_duplicates()"
   ]
  },
  {
   "cell_type": "code",
   "execution_count": 110,
   "metadata": {},
   "outputs": [
    {
     "name": "stdout",
     "output_type": "stream",
     "text": [
      "(99763, 28)\n"
     ]
    }
   ],
   "source": [
    "print(df.shape)"
   ]
  },
  {
   "cell_type": "markdown",
   "metadata": {},
   "source": [
    "## Nulls"
   ]
  },
  {
   "cell_type": "code",
   "execution_count": 111,
   "metadata": {},
   "outputs": [
    {
     "data": {
      "text/plain": [
       "vehicle_type                0.000000\n",
       "make                        0.000000\n",
       "model                       0.000000\n",
       "version                     0.158375\n",
       "fuel                        3.184547\n",
       "year                        0.000000\n",
       "kms                         0.810922\n",
       "power                       0.283672\n",
       "doors                     100.000000\n",
       "shift                       1.020418\n",
       "color                     100.000000\n",
       "photos                      0.000000\n",
       "description                44.118561\n",
       "price                       0.000000\n",
       "currency                    0.000000\n",
       "location                    0.000000\n",
       "publish_date                0.000000\n",
       "update_date                 0.000000\n",
       "dealer_name                 0.092219\n",
       "dealer_description         18.388581\n",
       "dealer_address              0.092219\n",
       "dealer_zip_code             0.092219\n",
       "dealer_city                 0.092219\n",
       "dealer_country_code         0.000000\n",
       "dealer_is_professional      0.000000\n",
       "dealer_website             20.044505\n",
       "dealer_registered_at        0.092219\n",
       "date                        0.000000\n",
       "dtype: float64"
      ]
     },
     "execution_count": 111,
     "metadata": {},
     "output_type": "execute_result"
    }
   ],
   "source": [
    "#Mostramos los nulos en porcetaje con relacion al total por cada fila \n",
    "df.isnull().sum()/df.shape[0]*100"
   ]
  },
  {
   "cell_type": "code",
   "execution_count": 112,
   "metadata": {},
   "outputs": [],
   "source": [
    "#Drop nuls de \"verion\", "
   ]
  },
  {
   "cell_type": "markdown",
   "metadata": {},
   "source": [
    "### Fuel nulls"
   ]
  },
  {
   "cell_type": "code",
   "execution_count": 119,
   "metadata": {},
   "outputs": [
    {
     "data": {
      "text/plain": [
       "make           model             \n",
       "Toyota         C-HR                  489\n",
       "Mazda          2                     128\n",
       "Toyota         Corolla               118\n",
       "CUPRA          Leon                  117\n",
       "Lexus          UX                    110\n",
       "Ford           Puma                  109\n",
       "Lexus          ES                     98\n",
       "Toyota         Yaris                  90\n",
       "               Auris                  80\n",
       "Fiat           500                    79\n",
       "KIA            Niro                   79\n",
       "Lexus          NX                     70\n",
       "KIA            Ceed                   68\n",
       "               Sportage               67\n",
       "Hyundai        IONIQ                  65\n",
       "Alfa Romeo     Tonale                 64\n",
       "Honda          Insight                56\n",
       "Renault        Arkana                 50\n",
       "BMW            X7                     50\n",
       "Lexus          RC                     48\n",
       "Citroen        C5 X                   44\n",
       "               C3                     41\n",
       "Lexus          RX                     37\n",
       "BMW            Serie 4                36\n",
       "Hyundai        Tucson                 29\n",
       "SEAT           Leon                   26\n",
       "Lexus          IS                     23\n",
       "Dacia          Jogger                 22\n",
       "BMW            i3                     18\n",
       "Lexus          GS                     17\n",
       "Abarth         695                    16\n",
       "Bentley        Flying Spur            16\n",
       "Daihatsu       Terios                 15\n",
       "Nissan         Qashqai                15\n",
       "Renault        Twizy                  14\n",
       "Fiat           Panda                  13\n",
       "Honda          Jazz                   12\n",
       "Ford           Tourneo Custom         12\n",
       "Mazda          CX-30                  12\n",
       "Mitsubishi     Outlander              11\n",
       "Volkswagen     Golf                   11\n",
       "Ford           Fiesta                 10\n",
       "Land Rover     Range Rover Evoque     10\n",
       "Audi           RS6                     9\n",
       "Citroen        Berlingo                9\n",
       "Volkswagen     Caddy                   9\n",
       "Ford           Kuga                    9\n",
       "Toyota         Camry                   9\n",
       "Porsche        Panamera                9\n",
       "Toyota         iQ                      9\n",
       "Mazda          3                       9\n",
       "Citroen        C2                      8\n",
       "Abarth         Punto Evo               8\n",
       "Audi           Q8                      8\n",
       "               RS3                     8\n",
       "BMW            Serie 8                 8\n",
       "Infiniti       FX37                    8\n",
       "Mercedes-Benz  Classe X                8\n",
       "Nissan         Townstar                8\n",
       "Mercedes-Benz  GLE Coupé               8\n",
       "Volvo          V90                     8\n",
       "Subaru         XV                      8\n",
       "Skoda          Octavia                 8\n",
       "Saab           9-5                     8\n",
       "Renault        Clio                    8\n",
       "Porsche        718 Cayman              8\n",
       "               Boxster                 8\n",
       "Jaguar         XJ                      8\n",
       "               S-Type                  8\n",
       "Ford           Mondeo Vignale          8\n",
       "Fiat           Barchetta               8\n",
       "Ferrari        LaFerrari               8\n",
       "Dodge          Caliber                 8\n",
       "Hyundai        Accent                  8\n",
       "BMW            X5 M                    8\n",
       "Cadillac       Seville                 8\n",
       "               CTS                     8\n",
       "Citroen        Xsara                   8\n",
       "Corvette       Corvette                8\n",
       "Chevrolet      Tahoe                   8\n",
       "BMW            X6 M                    8\n",
       "Hyundai        Kona                    8\n",
       "               i20                     8\n",
       "Subaru         Legacy                  7\n",
       "Nissan         Pixo                    7\n",
       "KIA            Stonic                  7\n",
       "Hyundai        Elantra                 7\n",
       "Skoda          Kamiq                   7\n",
       "MG             ZS                      7\n",
       "Chevrolet      Camaro                  7\n",
       "Mitsubishi     3000 GT                 7\n",
       "Peugeot        406                     7\n",
       "Hummer         H2                      7\n",
       "KIA            XCeed                   7\n",
       "MINI           Roadster                7\n",
       "Lotus          Esprit                  7\n",
       "Mercedes-Benz  Clase G                 6\n",
       "Volvo          XC60                    6\n",
       "Porsche        718 Boxster             6\n",
       "Opel           Tigra                   6\n",
       "Tata           Indigo                  6\n",
       "Peugeot        308                     6\n",
       "Abarth         595                     6\n",
       "Chevrolet      Cruze                   6\n",
       "Citroen        C4                      5\n",
       "Volkswagen     Touareg                 5\n",
       "Audi           A3                      5\n",
       "Abarth         500                     5\n",
       "Chevrolet      Kalos                   5\n",
       "BMW            X6                      5\n",
       "Mercedes-Benz  SLK                     5\n",
       "Volkswagen     Golf Plus               5\n",
       "               Multivan                5\n",
       "Lamborghini    Huracán                 5\n",
       "Hyundai        Getz                    5\n",
       "KIA            Rio                     5\n",
       "BMW            Serie 6                 4\n",
       "Ford           C-MAX                   4\n",
       "Volkswagen     Taigo                   4\n",
       "Rover          45                      4\n",
       "Porsche        911                     4\n",
       "Peugeot        3008                    4\n",
       "               307                     4\n",
       "Opel           Corsa                   4\n",
       "Mercedes-Benz  Viano                   4\n",
       "BMW            Serie 5                 4\n",
       "Cadillac       STS                     4\n",
       "DS             4                       4\n",
       "BMW            Serie 3                 4\n",
       "Porsche        Cayman                  4\n",
       "Mercedes-Benz  Clase CLS               4\n",
       "               Clase A                 4\n",
       "Porsche        Cayenne                 3\n",
       "Peugeot        207                     3\n",
       "Toyota         Yaris Cross             3\n",
       "Mitsubishi     Eclipse Cross           3\n",
       "Land Rover     Range Rover Sport       3\n",
       "Opel           Astra                   3\n",
       "Audi           RS4                     3\n",
       "BMW            X5                      3\n",
       "Dacia          Duster                  3\n",
       "Audi           Q7                      2\n",
       "Citroen        Nemo                    2\n",
       "BMW            X1                      2\n",
       "               Serie 7                 2\n",
       "Volvo          XC40                    2\n",
       "Mercedes-Benz  Clase E                 2\n",
       "Citroen        C5                      2\n",
       "DS             7 CROSSBACK             2\n",
       "Citroen        C3 Picasso              2\n",
       "Hyundai        Coupe                   2\n",
       "Lancia         Musa                    2\n",
       "Jeep           Wrangler                2\n",
       "Honda          CR-V                    2\n",
       "Ford           Fusion                  2\n",
       "               Focus                   2\n",
       "Honda          CR-Z                    2\n",
       "Dacia          Lodgy                   2\n",
       "Hyundai        Atos                    2\n",
       "               i10                     2\n",
       "Lexus          CT                      2\n",
       "Volkswagen     T-Cross                 2\n",
       "Toyota         MR2                     2\n",
       "Volkswagen     Golf Sportsvan          2\n",
       "               Polo                    2\n",
       "Nissan         NV400                   2\n",
       "Mercedes-Benz  GLA                     2\n",
       "Nissan         Navara                  2\n",
       "Renault        Laguna                  2\n",
       "Citroen        C4 Picasso              1\n",
       "Chevrolet      Aveo                    1\n",
       "Hyundai        Matrix                  1\n",
       "Mercedes-Benz  Vito                    1\n",
       "Peugeot        107                     1\n",
       "Suzuki         Vitara                  1\n",
       "SEAT           Ibiza                   1\n",
       "Renault        Twingo                  1\n",
       "Name: count, dtype: int64"
      ]
     },
     "execution_count": 119,
     "metadata": {},
     "output_type": "execute_result"
    }
   ],
   "source": [
    "# Ajustar las opciones de visualización de pandas\n",
    "pd.set_option('display.max_rows', None)\n",
    "pd.set_option('display.max_columns', None)\n",
    "pd.set_option('display.width', None)\n",
    "pd.set_option('display.max_colwidth', None)\n",
    " \n",
    "# Mostrar el resultado completo\n",
    "df[df['fuel'].isnull()][['make','model']].value_counts()"
   ]
  },
  {
   "cell_type": "code",
   "execution_count": 97,
   "metadata": {},
   "outputs": [
    {
     "data": {
      "text/plain": [
       "np.float64(72.98507462686568)"
      ]
     },
     "execution_count": 97,
     "metadata": {},
     "output_type": "execute_result"
    }
   ],
   "source": [
    "#Del total de valores de toyotas c-hr cuantos son nulos\n",
    "df[(df['make']=='Toyota') & (df['model']=='C-HR')]['fuel'].isnull().sum()/df[(df['make']=='Toyota') & (df['model']=='C-HR')].shape[0]*100"
   ]
  },
  {
   "cell_type": "code",
   "execution_count": null,
   "metadata": {},
   "outputs": [
    {
     "data": {
      "text/plain": [
       "670"
      ]
     },
     "execution_count": 99,
     "metadata": {},
     "output_type": "execute_result"
    }
   ],
   "source": [
    "#Filas Toyoa c-hr en total incluyendo los nulos\n",
    "df[(df['make']=='Toyota') & (df['model']=='C-HR')].shape[0]"
   ]
  },
  {
   "cell_type": "code",
   "execution_count": 103,
   "metadata": {},
   "outputs": [
    {
     "data": {
      "text/plain": [
       "72.98507462686567"
      ]
     },
     "execution_count": 103,
     "metadata": {},
     "output_type": "execute_result"
    }
   ],
   "source": [
    "489 * 100 / 670"
   ]
  },
  {
   "cell_type": "code",
   "execution_count": 93,
   "metadata": {},
   "outputs": [
    {
     "data": {
      "text/plain": [
       "fuel\n",
       "Eléctrico    143\n",
       "Gasolina      36\n",
       "Otros          2\n",
       "Name: count, dtype: int64"
      ]
     },
     "execution_count": 93,
     "metadata": {},
     "output_type": "execute_result"
    }
   ],
   "source": [
    "df[(df['make'] == 'Toyota') & (df['model'] == 'C-HR')]['fuel'].value_counts()"
   ]
  },
  {
   "cell_type": "code",
   "execution_count": 79,
   "metadata": {},
   "outputs": [
    {
     "data": {
      "text/plain": [
       "np.int64(489)"
      ]
     },
     "execution_count": 79,
     "metadata": {},
     "output_type": "execute_result"
    }
   ],
   "source": [
    "#mostrar cuantos valores nulos de los de toyota C-HR  \n",
    "df[(df['make'] == 'Toyota') & (df['model'] == 'C-HR')]['fuel'].isnull().sum()"
   ]
  },
  {
   "cell_type": "code",
   "execution_count": 80,
   "metadata": {},
   "outputs": [],
   "source": [
    "# Calcular el valor más frecuente de fuel para cada modelo de coche\n",
    "mode_fuel_by_model = df.groupby('model')['fuel'].agg(lambda x: x.mode()[0] if not x.mode().empty else None)\n",
    "\n",
    "# Función para rellenar los valores nulos\n",
    "def fill_fuel(row):\n",
    "    if pd.isnull(row['fuel']):\n",
    "        return mode_fuel_by_model[row['model']]\n",
    "    return row['fuel']\n",
    "\n",
    "# Aplicar la función para rellenar los valores nulos\n",
    "df['fuel'] = df.apply(fill_fuel, axis=1)\n"
   ]
  },
  {
   "cell_type": "code",
   "execution_count": 82,
   "metadata": {},
   "outputs": [
    {
     "data": {
      "text/plain": [
       "fuel\n",
       "Eléctrico    632\n",
       "Gasolina      36\n",
       "Otros          2\n",
       "Name: count, dtype: int64"
      ]
     },
     "execution_count": 82,
     "metadata": {},
     "output_type": "execute_result"
    }
   ],
   "source": [
    "# Mostrar que gasoina usa la marca toyota modelo C-HR\n",
    "df[(df['make'] == 'Toyota') & (df['model'] == 'C-HR')]['fuel'].value_counts()"
   ]
  },
  {
   "cell_type": "code",
   "execution_count": 61,
   "metadata": {},
   "outputs": [
    {
     "data": {
      "text/plain": [
       "np.int64(0)"
      ]
     },
     "execution_count": 61,
     "metadata": {},
     "output_type": "execute_result"
    }
   ],
   "source": [
    "df[(df['make'] == 'Toyota') & (df['model'] == 'C-HR')]['fuel'].isnull().sum()"
   ]
  },
  {
   "cell_type": "code",
   "execution_count": 62,
   "metadata": {},
   "outputs": [
    {
     "data": {
      "text/plain": [
       "np.int64(33)"
      ]
     },
     "execution_count": 62,
     "metadata": {},
     "output_type": "execute_result"
    }
   ],
   "source": [
    "# Nulos en fuel \n",
    "df['fuel'].isnull().sum()"
   ]
  },
  {
   "cell_type": "code",
   "execution_count": 44,
   "metadata": {},
   "outputs": [
    {
     "data": {
      "text/html": [
       "<div>\n",
       "<style scoped>\n",
       "    .dataframe tbody tr th:only-of-type {\n",
       "        vertical-align: middle;\n",
       "    }\n",
       "\n",
       "    .dataframe tbody tr th {\n",
       "        vertical-align: top;\n",
       "    }\n",
       "\n",
       "    .dataframe thead th {\n",
       "        text-align: right;\n",
       "    }\n",
       "</style>\n",
       "<table border=\"1\" class=\"dataframe\">\n",
       "  <thead>\n",
       "    <tr style=\"text-align: right;\">\n",
       "      <th></th>\n",
       "      <th>make</th>\n",
       "      <th>model</th>\n",
       "    </tr>\n",
       "    <tr>\n",
       "      <th>fuel</th>\n",
       "      <th></th>\n",
       "      <th></th>\n",
       "    </tr>\n",
       "  </thead>\n",
       "  <tbody>\n",
       "    <tr>\n",
       "      <th>Diésel</th>\n",
       "      <td>[Opel, SsangYong, MINI, Nissan, KIA, Lexus, Mitsubishi, Renault, SEAT, Jeep, Skoda, Saab, Volvo, Rover, Renault Trucks, Tata, Maserati, Dacia, Volkswagen, Infiniti, Galloper, Toyota, Land Rover, Lancia, Jaguar, Iveco, Citroen, Chevrolet, Audi, Alfa Romeo, DS, Honda, BMW, Peugeot, Suzuki, Dodge, Hyundai, Mercedes-Benz, Fiat, Ford, Mazda, Subaru, Porsche, Chrysler, Bentley, MG, Isuzu, Mahindra, Santana, VAZ, CUPRA]</td>\n",
       "      <td>[Crossland, Combo, Movano, Vivaro, Antara, Zafira Tourer, Combo Life, Kyron, Zafira, XLV, Insignia, Tivoli, Korando, Paceman, Primastar, Soul, Ceed, Carens, Sorento, Stonic, Sportage, IS, Outlander, Lancer, L 200, Primera, NV300, NV400, Pulsar, X-Trail, Navara, NV250, Terrano, NV200, Cabstar, Juke, Note, Pathfinder, Atleon, Scenic, Koleos, Captur, Kangoo, Master, Grand Scenic, Kadjar, Trafic, Talisman, Grand Espace, Megane, Fluence, Modus, Laguna, Clio, Tarraco, Cherokee, Leon, Ibiza, Inca, Exeo, Yeti, Octavia, Compass, Renegade, Astra, Tigra, Frontera, Crossland X, ProCeed, 9-5, 9-3, S60, XC40, V90, XC70, XC90, XC60, S80, V60, C30, C70, 75, Maxity, Grand Safari, Meriva, Mokka X, Ghibli, Quattroporte, Dokker, Wrangler, Patriot, Twingo, Express Van, Grand Kangoo, Espace, Almera, Trade, Murano, Vanette, NT400 Cabstar, ...]</td>\n",
       "    </tr>\n",
       "    <tr>\n",
       "      <th>Eléctrico</th>\n",
       "      <td>[Opel, Tesla, Lexus, Mitsubishi, Nissan, Renault, Volvo, KIA, Toyota, DS, Alfa Romeo, Audi, Citroen, CUPRA, Honda, Hyundai, BMW, Ford, Volkswagen, Peugeot, Porsche, Skoda, Mercedes-Benz, Fiat, Mazda, Land Rover, Infiniti, Jaguar, Maserati, Dacia, SEAT, MG]</td>\n",
       "      <td>[Corsa-e, Model 3, Ampera, Model X, Model Y, NX, RX, GS, IS, Outlander, NV200, Leaf, Arkana, C40, Model S, ZOE, Twizy, UX 300e, UX, CT, ES, LS, LC, Niro, Soul, Corolla, C-HR, Yaris, Prius, 3 CROSSBACK, Tonale, Q4, e-tron GT, C5 X, ë-C4, Born, CR-Z, IONIQ, IONIQ 5, i3, iX, Mustang Mach-E, Mondeo, Explorer, ID.3, e-208, e-2008, Cayenne, ID.4, Taycan, e-tron, Mokka-e, Enyaq iV, Evalia, RC, e-Niro, Camry, AMI, C-Zero, Insight, eVito, iX3, i8, e-Doblò, MX-30, CX-60, Range Rover Sport, Focus, Q50, Serie 7, Auris, 500, Kona, Range Rover Velar, XCeed, Optima, Mokka, Mondeo Vignale, I-Pace, XC90, EQV, e-Rifter, ID.5, ID. Buzz, X6, ë-Berlingo, XC40, DS5, CR-V, Clase A, E-Pace, Ghibli, Eclipse Cross, V90, Yaris Cross, Spring, Combo-e Life, Mii electric, EV6, 4, ...]</td>\n",
       "    </tr>\n",
       "    <tr>\n",
       "      <th>Gasolina</th>\n",
       "      <td>[Opel, Rover, SsangYong, KIA, Lexus, Mitsubishi, Nissan, Renault, SEAT, Skoda, Jeep, Abarth, Saab, MINI, Hummer, Jaguar, Maserati, Dacia, Infiniti, Toyota, Land Rover, Daihatsu, Daewoo, Citroen, Ferrari, Chevrolet, Cadillac, Audi, Alfa Romeo, DS, Volvo, BMW, Mazda, Alpine, Chrysler, Tata, Fiat, Peugeot, Suzuki, Aston Martin, Bentley, CUPRA, Honda, Hyundai, Mercedes-Benz, Ford, Porsche, Subaru, Volkswagen, MG, Corvette, McLaren, Dodge, Lamborghini, Lada, Lancia, KTM, Lotus]</td>\n",
       "      <td>[Crossland, Cabrio, Crossland X, Corsa-e, KARL, Zafira Tourer, Mokka, Corsa, Ampera, 45, XLV, Omega, Tivoli, Korando, Ceed, Stonic, Sportage, NX, IS, Eclipse Cross, Outlander, Space Star, Primera, Pulsar, X-Trail, Terrano II, Juke, Note, Townstar, Micra, Scenic, Captur, Arkana, Grand Scenic, Kadjar, Talisman, Grand Espace, Twingo, Clio, Tarraco, Toledo, Leon, Ibiza, Exeo, Yeti, Compass, Renegade, Astra, ProCeed, Combo Life, 595, 500, 9-5, Roadster, H2, ADAM, Daimler, Mokka X, Levante, Coupe, GranTurismo, Ghibli, Quattroporte, Grecale, Dokker, Kamiq, Express Van, Modus, Fluence, Pixo, 370Z, Space Gear, GS, LS, Stinger, Rio, Venga, Opirus, XCeed, G37, MR2, GR Supra, Yaris, iQ, Avensis, Aygo X, Aygo, Verso, Land Cruiser 200, Range Rover Velar, S-Type, Terios, Tacuma, Nubira, Lacetti, Grand C4 SpaceTourer, C3 Picasso, 458, Seville, Escalade, ...]</td>\n",
       "    </tr>\n",
       "    <tr>\n",
       "      <th>Otros</th>\n",
       "      <td>[Opel, Dacia, SEAT, Lexus, Land Rover, Toyota, Mercedes-Benz, Mazda, Skoda, Jeep, Fiat, Subaru, DS, SsangYong, Chevrolet, Citroen, Porsche, Renault, BMW, Hyundai, KIA, CUPRA, Ford]</td>\n",
       "      <td>[Corsa, Dokker, Leon, UX, ES, Defender, Jogger, Lodgy, Highlander, GLC Coupé, MX-30, Kamiq, Wrangler, 500X, XV, Logan, Sandero, 7 CROSSBACK, Tivoli, Ibiza, HHR, C5 X, Ducato, Tipo, Panamera, RX, CT, Grandland, Austral, LS, i3, IONIQ, Clase CLS, NX, Sportage, 500, Stonic, Captur, Yaris, C-HR, Clio, Focus, C3, Berlingo]</td>\n",
       "    </tr>\n",
       "  </tbody>\n",
       "</table>\n",
       "</div>"
      ],
      "text/plain": [
       "                                                                                                                                                                                                                                                                                                                                                                                                                                                                                                    make  \\\n",
       "fuel                                                                                                                                                                                                                                                                                                                                                                                                                                                                                                       \n",
       "Diésel                                                                  [Opel, SsangYong, MINI, Nissan, KIA, Lexus, Mitsubishi, Renault, SEAT, Jeep, Skoda, Saab, Volvo, Rover, Renault Trucks, Tata, Maserati, Dacia, Volkswagen, Infiniti, Galloper, Toyota, Land Rover, Lancia, Jaguar, Iveco, Citroen, Chevrolet, Audi, Alfa Romeo, DS, Honda, BMW, Peugeot, Suzuki, Dodge, Hyundai, Mercedes-Benz, Fiat, Ford, Mazda, Subaru, Porsche, Chrysler, Bentley, MG, Isuzu, Mahindra, Santana, VAZ, CUPRA]   \n",
       "Eléctrico                                                                                                                                                                                                                               [Opel, Tesla, Lexus, Mitsubishi, Nissan, Renault, Volvo, KIA, Toyota, DS, Alfa Romeo, Audi, Citroen, CUPRA, Honda, Hyundai, BMW, Ford, Volkswagen, Peugeot, Porsche, Skoda, Mercedes-Benz, Fiat, Mazda, Land Rover, Infiniti, Jaguar, Maserati, Dacia, SEAT, MG]   \n",
       "Gasolina   [Opel, Rover, SsangYong, KIA, Lexus, Mitsubishi, Nissan, Renault, SEAT, Skoda, Jeep, Abarth, Saab, MINI, Hummer, Jaguar, Maserati, Dacia, Infiniti, Toyota, Land Rover, Daihatsu, Daewoo, Citroen, Ferrari, Chevrolet, Cadillac, Audi, Alfa Romeo, DS, Volvo, BMW, Mazda, Alpine, Chrysler, Tata, Fiat, Peugeot, Suzuki, Aston Martin, Bentley, CUPRA, Honda, Hyundai, Mercedes-Benz, Ford, Porsche, Subaru, Volkswagen, MG, Corvette, McLaren, Dodge, Lamborghini, Lada, Lancia, KTM, Lotus]   \n",
       "Otros                                                                                                                                                                                                                                                                                                               [Opel, Dacia, SEAT, Lexus, Land Rover, Toyota, Mercedes-Benz, Mazda, Skoda, Jeep, Fiat, Subaru, DS, SsangYong, Chevrolet, Citroen, Porsche, Renault, BMW, Hyundai, KIA, CUPRA, Ford]   \n",
       "\n",
       "                                                                                                                                                                                                                                                                                                                                                                                                                                                                                                                                                                                                                                                                                                                                                                                                                                                                                            model  \n",
       "fuel                                                                                                                                                                                                                                                                                                                                                                                                                                                                                                                                                                                                                                                                                                                                                                                                                                                                                               \n",
       "Diésel                           [Crossland, Combo, Movano, Vivaro, Antara, Zafira Tourer, Combo Life, Kyron, Zafira, XLV, Insignia, Tivoli, Korando, Paceman, Primastar, Soul, Ceed, Carens, Sorento, Stonic, Sportage, IS, Outlander, Lancer, L 200, Primera, NV300, NV400, Pulsar, X-Trail, Navara, NV250, Terrano, NV200, Cabstar, Juke, Note, Pathfinder, Atleon, Scenic, Koleos, Captur, Kangoo, Master, Grand Scenic, Kadjar, Trafic, Talisman, Grand Espace, Megane, Fluence, Modus, Laguna, Clio, Tarraco, Cherokee, Leon, Ibiza, Inca, Exeo, Yeti, Octavia, Compass, Renegade, Astra, Tigra, Frontera, Crossland X, ProCeed, 9-5, 9-3, S60, XC40, V90, XC70, XC90, XC60, S80, V60, C30, C70, 75, Maxity, Grand Safari, Meriva, Mokka X, Ghibli, Quattroporte, Dokker, Wrangler, Patriot, Twingo, Express Van, Grand Kangoo, Espace, Almera, Trade, Murano, Vanette, NT400 Cabstar, ...]  \n",
       "Eléctrico                                                                                           [Corsa-e, Model 3, Ampera, Model X, Model Y, NX, RX, GS, IS, Outlander, NV200, Leaf, Arkana, C40, Model S, ZOE, Twizy, UX 300e, UX, CT, ES, LS, LC, Niro, Soul, Corolla, C-HR, Yaris, Prius, 3 CROSSBACK, Tonale, Q4, e-tron GT, C5 X, ë-C4, Born, CR-Z, IONIQ, IONIQ 5, i3, iX, Mustang Mach-E, Mondeo, Explorer, ID.3, e-208, e-2008, Cayenne, ID.4, Taycan, e-tron, Mokka-e, Enyaq iV, Evalia, RC, e-Niro, Camry, AMI, C-Zero, Insight, eVito, iX3, i8, e-Doblò, MX-30, CX-60, Range Rover Sport, Focus, Q50, Serie 7, Auris, 500, Kona, Range Rover Velar, XCeed, Optima, Mokka, Mondeo Vignale, I-Pace, XC90, EQV, e-Rifter, ID.5, ID. Buzz, X6, ë-Berlingo, XC40, DS5, CR-V, Clase A, E-Pace, Ghibli, Eclipse Cross, V90, Yaris Cross, Spring, Combo-e Life, Mii electric, EV6, 4, ...]  \n",
       "Gasolina   [Crossland, Cabrio, Crossland X, Corsa-e, KARL, Zafira Tourer, Mokka, Corsa, Ampera, 45, XLV, Omega, Tivoli, Korando, Ceed, Stonic, Sportage, NX, IS, Eclipse Cross, Outlander, Space Star, Primera, Pulsar, X-Trail, Terrano II, Juke, Note, Townstar, Micra, Scenic, Captur, Arkana, Grand Scenic, Kadjar, Talisman, Grand Espace, Twingo, Clio, Tarraco, Toledo, Leon, Ibiza, Exeo, Yeti, Compass, Renegade, Astra, ProCeed, Combo Life, 595, 500, 9-5, Roadster, H2, ADAM, Daimler, Mokka X, Levante, Coupe, GranTurismo, Ghibli, Quattroporte, Grecale, Dokker, Kamiq, Express Van, Modus, Fluence, Pixo, 370Z, Space Gear, GS, LS, Stinger, Rio, Venga, Opirus, XCeed, G37, MR2, GR Supra, Yaris, iQ, Avensis, Aygo X, Aygo, Verso, Land Cruiser 200, Range Rover Velar, S-Type, Terios, Tacuma, Nubira, Lacetti, Grand C4 SpaceTourer, C3 Picasso, 458, Seville, Escalade, ...]  \n",
       "Otros                                                                                                                                                                                                                                                                                                                                                                                                                                                                                                                                                             [Corsa, Dokker, Leon, UX, ES, Defender, Jogger, Lodgy, Highlander, GLC Coupé, MX-30, Kamiq, Wrangler, 500X, XV, Logan, Sandero, 7 CROSSBACK, Tivoli, Ibiza, HHR, C5 X, Ducato, Tipo, Panamera, RX, CT, Grandland, Austral, LS, i3, IONIQ, Clase CLS, NX, Sportage, 500, Stonic, Captur, Yaris, C-HR, Clio, Focus, C3, Berlingo]  "
      ]
     },
     "execution_count": 44,
     "metadata": {},
     "output_type": "execute_result"
    }
   ],
   "source": [
    "#Agrupar fuel y mostrar los modelos y marca de cada tipo de fuel\n",
    "df.groupby('fuel')[['make','model']].agg(lambda x: x.unique())"
   ]
  },
  {
   "cell_type": "code",
   "execution_count": null,
   "metadata": {},
   "outputs": [],
   "source": [
    "df.head(1)"
   ]
  },
  {
   "cell_type": "code",
   "execution_count": 64,
   "metadata": {},
   "outputs": [
    {
     "data": {
      "text/plain": [
       "Series([], Name: count, dtype: int64)"
      ]
     },
     "execution_count": 64,
     "metadata": {},
     "output_type": "execute_result"
    }
   ],
   "source": [
    "df[(df['make'] == 'Infiniti') & (df['model'] == 'FX37')]['fuel'].value_counts()"
   ]
  },
  {
   "cell_type": "code",
   "execution_count": 66,
   "metadata": {},
   "outputs": [
    {
     "data": {
      "text/plain": [
       "make      model    \n",
       "Ferrari   LaFerrari    8\n",
       "Infiniti  FX37         8\n",
       "Lotus     Esprit       7\n",
       "Tata      Indigo       6\n",
       "Cadillac  STS          4\n",
       "Name: count, dtype: int64"
      ]
     },
     "execution_count": 66,
     "metadata": {},
     "output_type": "execute_result"
    }
   ],
   "source": [
    "# Ajustar las opciones de visualización de pandas\n",
    "pd.set_option('display.max_rows', None)\n",
    "pd.set_option('display.max_columns', None)\n",
    "pd.set_option('display.width', None)\n",
    "pd.set_option('display.max_colwidth', None)\n",
    " \n",
    "# Mostrar el resultado completo\n",
    "df[df['fuel'].isnull()][['make','model']].value_counts()"
   ]
  }
 ],
 "metadata": {
  "kernelspec": {
   "display_name": "Python 3",
   "language": "python",
   "name": "python3"
  },
  "language_info": {
   "codemirror_mode": {
    "name": "ipython",
    "version": 3
   },
   "file_extension": ".py",
   "mimetype": "text/x-python",
   "name": "python",
   "nbconvert_exporter": "python",
   "pygments_lexer": "ipython3",
   "version": "3.12.7"
  }
 },
 "nbformat": 4,
 "nbformat_minor": 2
}
