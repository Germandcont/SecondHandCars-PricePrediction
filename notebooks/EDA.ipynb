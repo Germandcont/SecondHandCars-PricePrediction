{
 "cells": [
  {
   "cell_type": "code",
   "execution_count": 347,
   "metadata": {},
   "outputs": [],
   "source": [
    "import pandas as pd\n",
    "import numpy as np"
   ]
  },
  {
   "cell_type": "markdown",
   "metadata": {},
   "source": [
    "## Load Data"
   ]
  },
  {
   "cell_type": "code",
   "execution_count": 348,
   "metadata": {},
   "outputs": [],
   "source": [
    "df = pd.read_csv(r'C:\\Users\\Germán\\Github\\Proyecto2\\data\\vehiculos-de-segunda-mano-sample.csv')"
   ]
  },
  {
   "cell_type": "code",
   "execution_count": 349,
   "metadata": {},
   "outputs": [
    {
     "data": {
      "text/html": [
       "<div>\n",
       "<style scoped>\n",
       "    .dataframe tbody tr th:only-of-type {\n",
       "        vertical-align: middle;\n",
       "    }\n",
       "\n",
       "    .dataframe tbody tr th {\n",
       "        vertical-align: top;\n",
       "    }\n",
       "\n",
       "    .dataframe thead th {\n",
       "        text-align: right;\n",
       "    }\n",
       "</style>\n",
       "<table border=\"1\" class=\"dataframe\">\n",
       "  <thead>\n",
       "    <tr style=\"text-align: right;\">\n",
       "      <th></th>\n",
       "      <th>vehicle_type</th>\n",
       "      <th>make</th>\n",
       "      <th>model</th>\n",
       "      <th>version</th>\n",
       "      <th>fuel</th>\n",
       "      <th>year</th>\n",
       "      <th>kms</th>\n",
       "      <th>power</th>\n",
       "      <th>doors</th>\n",
       "      <th>shift</th>\n",
       "      <th>color</th>\n",
       "      <th>photos</th>\n",
       "      <th>description</th>\n",
       "      <th>price</th>\n",
       "      <th>currency</th>\n",
       "      <th>location</th>\n",
       "      <th>publish_date</th>\n",
       "      <th>update_date</th>\n",
       "      <th>dealer_name</th>\n",
       "      <th>dealer_description</th>\n",
       "      <th>dealer_address</th>\n",
       "      <th>dealer_zip_code</th>\n",
       "      <th>dealer_city</th>\n",
       "      <th>dealer_country_code</th>\n",
       "      <th>dealer_is_professional</th>\n",
       "      <th>dealer_website</th>\n",
       "      <th>dealer_registered_at</th>\n",
       "      <th>date</th>\n",
       "    </tr>\n",
       "  </thead>\n",
       "  <tbody>\n",
       "    <tr>\n",
       "      <th>0</th>\n",
       "      <td>car</td>\n",
       "      <td>Opel</td>\n",
       "      <td>Crossland</td>\n",
       "      <td>1.2 GAS 110 GS Line 5p S/S</td>\n",
       "      <td>Gasolina</td>\n",
       "      <td>2022</td>\n",
       "      <td>5.0</td>\n",
       "      <td>110.0</td>\n",
       "      <td>NaN</td>\n",
       "      <td>manual</td>\n",
       "      <td>NaN</td>\n",
       "      <td>10</td>\n",
       "      <td>OFERTA EXCLUSIVA DE INTERNET \\nNuevo Opel Crossland GSLINE 1.2 Turbo Gasolina 110cv manual de 6 velocidades.\\nVehículo dotado del siguiente equipamiento:\\nNUEVO A ESTRENAR, MATRICULADO EN FECHA 31.08.2022 \\nFAROS ECOLED\\nNAVEGADOR 5.0 INTELILINK\\nPILOTOS TRASEROS LED\\nCÁMARA DELANTERA (Alerta de Cambio Involuntario de Carril)\\nPANTALLA INTELILLINK R4.0 7” CON APPLE CAR PLAY &amp; ANDROID AUTO\\nFRENOS DE DISCO DELANTEROS Y TRASEROS \\nLLANTAS SPORT 17” COLO NEGRO DIAMANTE\\nSENSOR APARCAMIENTO TRASERO\\nKIT ANTIPINCHAZOS\\nANCLAJES ISOFIX PLAZAS TRASERAS\\nASIENTO AGR  (ASIENTOS ERGONÓMICO)\\nELEVALUNAS TRASEROS Y DELANTEROS ELÉCTRICOS\\nCLIMATIZADOR DIGITAL BIZONA\\nCONS</td>\n",
       "      <td>22900</td>\n",
       "      <td>EUR</td>\n",
       "      <td>Pineda de Mar</td>\n",
       "      <td>2023-02-04</td>\n",
       "      <td>2023-02-04</td>\n",
       "      <td>Sergio Y.</td>\n",
       "      <td>NaN</td>\n",
       "      <td>2, Carrer de Jacint Benavente, Poblenou, Pineda de Mar, Maresme, Barcelona, Catalunya, 08397, España</td>\n",
       "      <td>8397.0</td>\n",
       "      <td>Pineda de Mar</td>\n",
       "      <td>ES</td>\n",
       "      <td>True</td>\n",
       "      <td>www.cocheauto.com</td>\n",
       "      <td>2017-01-18</td>\n",
       "      <td>2023-02-06</td>\n",
       "    </tr>\n",
       "  </tbody>\n",
       "</table>\n",
       "</div>"
      ],
      "text/plain": [
       "  vehicle_type  make      model                     version      fuel  year  \\\n",
       "0          car  Opel  Crossland  1.2 GAS 110 GS Line 5p S/S  Gasolina  2022   \n",
       "\n",
       "   kms  power  doors   shift  color  photos  \\\n",
       "0  5.0  110.0    NaN  manual    NaN      10   \n",
       "\n",
       "                                                                                                                                                                                                                                                                                                                                                                                                                                                                                                                                                                                                                                                                                   description  \\\n",
       "0  OFERTA EXCLUSIVA DE INTERNET \\nNuevo Opel Crossland GSLINE 1.2 Turbo Gasolina 110cv manual de 6 velocidades.\\nVehículo dotado del siguiente equipamiento:\\nNUEVO A ESTRENAR, MATRICULADO EN FECHA 31.08.2022 \\nFAROS ECOLED\\nNAVEGADOR 5.0 INTELILINK\\nPILOTOS TRASEROS LED\\nCÁMARA DELANTERA (Alerta de Cambio Involuntario de Carril)\\nPANTALLA INTELILLINK R4.0 7” CON APPLE CAR PLAY & ANDROID AUTO\\nFRENOS DE DISCO DELANTEROS Y TRASEROS \\nLLANTAS SPORT 17” COLO NEGRO DIAMANTE\\nSENSOR APARCAMIENTO TRASERO\\nKIT ANTIPINCHAZOS\\nANCLAJES ISOFIX PLAZAS TRASERAS\\nASIENTO AGR  (ASIENTOS ERGONÓMICO)\\nELEVALUNAS TRASEROS Y DELANTEROS ELÉCTRICOS\\nCLIMATIZADOR DIGITAL BIZONA\\nCONS   \n",
       "\n",
       "   price currency       location publish_date update_date dealer_name  \\\n",
       "0  22900      EUR  Pineda de Mar   2023-02-04  2023-02-04   Sergio Y.   \n",
       "\n",
       "  dealer_description  \\\n",
       "0                NaN   \n",
       "\n",
       "                                                                                         dealer_address  \\\n",
       "0  2, Carrer de Jacint Benavente, Poblenou, Pineda de Mar, Maresme, Barcelona, Catalunya, 08397, España   \n",
       "\n",
       "   dealer_zip_code    dealer_city dealer_country_code  dealer_is_professional  \\\n",
       "0           8397.0  Pineda de Mar                  ES                    True   \n",
       "\n",
       "      dealer_website dealer_registered_at        date  \n",
       "0  www.cocheauto.com           2017-01-18  2023-02-06  "
      ]
     },
     "execution_count": 349,
     "metadata": {},
     "output_type": "execute_result"
    }
   ],
   "source": [
    "df.head(1)"
   ]
  },
  {
   "cell_type": "markdown",
   "metadata": {},
   "source": [
    "## Duplicados"
   ]
  },
  {
   "cell_type": "code",
   "execution_count": 350,
   "metadata": {},
   "outputs": [],
   "source": [
    "# Eliminamos duplicados \n",
    "df = df.drop_duplicates()"
   ]
  },
  {
   "cell_type": "code",
   "execution_count": 351,
   "metadata": {},
   "outputs": [
    {
     "name": "stdout",
     "output_type": "stream",
     "text": [
      "(99763, 28)\n"
     ]
    }
   ],
   "source": [
    "print(df.shape)"
   ]
  },
  {
   "cell_type": "code",
   "execution_count": 352,
   "metadata": {},
   "outputs": [
    {
     "name": "stdout",
     "output_type": "stream",
     "text": [
      "Index(['vehicle_type', 'make', 'model', 'version', 'fuel', 'year', 'kms',\n",
      "       'power', 'doors', 'shift', 'color', 'photos', 'description', 'price',\n",
      "       'currency', 'location', 'publish_date', 'update_date', 'dealer_name',\n",
      "       'dealer_description', 'dealer_address', 'dealer_zip_code',\n",
      "       'dealer_city', 'dealer_country_code', 'dealer_is_professional',\n",
      "       'dealer_website', 'dealer_registered_at', 'date'],\n",
      "      dtype='object')\n"
     ]
    }
   ],
   "source": [
    "#Mostrar nombres de cada columna en una lista\n",
    "print(df.columns)\n"
   ]
  },
  {
   "cell_type": "markdown",
   "metadata": {},
   "source": [
    "Drop columns"
   ]
  },
  {
   "cell_type": "code",
   "execution_count": 353,
   "metadata": {},
   "outputs": [],
   "source": [
    "#Drop 'vehicle_type','doors','color','photos', 'description','currency','update_date','dealer_description','dealer_address', 'dealer_zip_code','dealer_is_professional','dealer_city', 'dealer_country_code','dealer_website','dealer_registered_at', 'date'\n",
    "df = df.drop(['dealer_name','vehicle_type','doors','color','photos', 'description','currency','update_date','dealer_description','dealer_address','dealer_is_professional','dealer_city', 'dealer_country_code','dealer_website','dealer_registered_at', 'date'], axis=1)"
   ]
  },
  {
   "cell_type": "markdown",
   "metadata": {},
   "source": [
    "## Nulls"
   ]
  },
  {
   "cell_type": "code",
   "execution_count": 368,
   "metadata": {},
   "outputs": [
    {
     "data": {
      "text/plain": [
       "make               0.000000\n",
       "model              0.000000\n",
       "version            0.000000\n",
       "fuel               0.000000\n",
       "year               0.000000\n",
       "kms                0.000000\n",
       "power              0.000000\n",
       "shift              0.000000\n",
       "price              0.000000\n",
       "location           0.000000\n",
       "publish_date       0.000000\n",
       "dealer_zip_code    0.093121\n",
       "dtype: float64"
      ]
     },
     "execution_count": 368,
     "metadata": {},
     "output_type": "execute_result"
    }
   ],
   "source": [
    "#Mostramos los nulos en porcetaje con relacion al total por cada fila \n",
    "df.isnull().sum()/df.shape[0]*100"
   ]
  },
  {
   "cell_type": "code",
   "execution_count": 354,
   "metadata": {},
   "outputs": [],
   "source": [
    "#Drop nuls de \"verion\", kms, power,dealer_name\n",
    "df = df.dropna(subset=['version', 'kms'])"
   ]
  },
  {
   "cell_type": "markdown",
   "metadata": {},
   "source": [
    "### Fuel nulls"
   ]
  },
  {
   "cell_type": "code",
   "execution_count": 288,
   "metadata": {},
   "outputs": [
    {
     "data": {
      "text/plain": [
       "make           model             \n",
       "Toyota         C-HR                  489\n",
       "Mazda          2                     128\n",
       "Toyota         Corolla               118\n",
       "CUPRA          Leon                  117\n",
       "Lexus          UX                    110\n",
       "Ford           Puma                  109\n",
       "Lexus          ES                     98\n",
       "Toyota         Yaris                  90\n",
       "               Auris                  80\n",
       "KIA            Niro                   79\n",
       "Fiat           500                    79\n",
       "Lexus          NX                     70\n",
       "KIA            Ceed                   68\n",
       "               Sportage               67\n",
       "Hyundai        IONIQ                  65\n",
       "Alfa Romeo     Tonale                 64\n",
       "Honda          Insight                56\n",
       "Renault        Arkana                 50\n",
       "BMW            X7                     50\n",
       "Lexus          RC                     48\n",
       "Citroen        C5 X                   44\n",
       "               C3                     38\n",
       "Lexus          RX                     37\n",
       "BMW            Serie 4                36\n",
       "Hyundai        Tucson                 29\n",
       "SEAT           Leon                   26\n",
       "Lexus          IS                     23\n",
       "Dacia          Jogger                 22\n",
       "Lexus          GS                     17\n",
       "BMW            i3                     17\n",
       "Abarth         695                    16\n",
       "Bentley        Flying Spur            16\n",
       "Nissan         Qashqai                15\n",
       "Daihatsu       Terios                 15\n",
       "Renault        Twizy                  14\n",
       "Fiat           Panda                  13\n",
       "Honda          Jazz                   12\n",
       "Ford           Tourneo Custom         12\n",
       "Mazda          CX-30                  12\n",
       "Volkswagen     Golf                   11\n",
       "Mitsubishi     Outlander              11\n",
       "Ford           Fiesta                 10\n",
       "Toyota         Camry                   9\n",
       "Mazda          3                       9\n",
       "Ford           Kuga                    9\n",
       "Volkswagen     Caddy                   9\n",
       "Toyota         iQ                      9\n",
       "Audi           RS6                     9\n",
       "Hyundai        Kona                    8\n",
       "Porsche        718 Cayman              8\n",
       "Subaru         XV                      8\n",
       "Porsche        Boxster                 8\n",
       "Nissan         Townstar                8\n",
       "Land Rover     Range Rover Evoque      8\n",
       "Mercedes-Benz  Classe X                8\n",
       "               GLE Coupé               8\n",
       "Jaguar         XJ                      8\n",
       "               S-Type                  8\n",
       "Audi           RS3                     8\n",
       "BMW            Serie 8                 8\n",
       "               X6 M                    8\n",
       "               X5 M                    8\n",
       "Audi           Q8                      8\n",
       "Cadillac       CTS                     8\n",
       "Chevrolet      Tahoe                   8\n",
       "Cadillac       Seville                 8\n",
       "Abarth         Punto Evo               8\n",
       "Skoda          Octavia                 8\n",
       "Renault        Clio                    8\n",
       "Volvo          V90                     8\n",
       "Hyundai        Accent                  8\n",
       "               i20                     8\n",
       "Ford           Mondeo Vignale          8\n",
       "Fiat           Barchetta               8\n",
       "Ferrari        LaFerrari               8\n",
       "Dodge          Caliber                 8\n",
       "Citroen        Xsara                   8\n",
       "Nissan         Pixo                    7\n",
       "Porsche        Panamera                7\n",
       "Peugeot        406                     7\n",
       "Mitsubishi     3000 GT                 7\n",
       "Hyundai        Elantra                 7\n",
       "MG             ZS                      7\n",
       "KIA            Stonic                  7\n",
       "               XCeed                   7\n",
       "MINI           Roadster                7\n",
       "Skoda          Kamiq                   7\n",
       "Lotus          Esprit                  7\n",
       "Hummer         H2                      7\n",
       "Chevrolet      Camaro                  7\n",
       "Subaru         Legacy                  7\n",
       "Citroen        Berlingo                6\n",
       "Chevrolet      Cruze                   6\n",
       "Abarth         595                     6\n",
       "Opel           Tigra                   6\n",
       "Tata           Indigo                  6\n",
       "Volvo          XC60                    6\n",
       "Porsche        718 Boxster             6\n",
       "Peugeot        308                     6\n",
       "Mercedes-Benz  Clase G                 6\n",
       "Audi           A3                      5\n",
       "Citroen        C4                      5\n",
       "Hyundai        Getz                    5\n",
       "Mercedes-Benz  SLK                     5\n",
       "KIA            Rio                     5\n",
       "Citroen        C2                      5\n",
       "Chevrolet      Kalos                   5\n",
       "BMW            X6                      5\n",
       "Volkswagen     Touareg                 5\n",
       "               Golf Plus               5\n",
       "BMW            Serie 6                 4\n",
       "               Serie 3                 4\n",
       "Abarth         500                     4\n",
       "Mercedes-Benz  Clase A                 4\n",
       "Peugeot        3008                    4\n",
       "Porsche        Cayman                  4\n",
       "               911                     4\n",
       "BMW            Serie 5                 4\n",
       "Mercedes-Benz  Viano                   4\n",
       "Opel           Corsa                   4\n",
       "Peugeot        307                     4\n",
       "Mercedes-Benz  Clase CLS               4\n",
       "Rover          45                      4\n",
       "Peugeot        207                     3\n",
       "Audi           RS4                     3\n",
       "BMW            X5                      3\n",
       "Toyota         Yaris Cross             3\n",
       "Mitsubishi     Eclipse Cross           3\n",
       "Porsche        Cayenne                 3\n",
       "Opel           Astra                   3\n",
       "Dacia          Duster                  3\n",
       "Land Rover     Range Rover Sport       3\n",
       "Audi           Q7                      2\n",
       "BMW            Serie 7                 2\n",
       "Volvo          XC40                    2\n",
       "Citroen        C3 Picasso              2\n",
       "BMW            X1                      2\n",
       "Citroen        C5                      2\n",
       "Hyundai        i10                     2\n",
       "Citroen        Nemo                    2\n",
       "DS             7 CROSSBACK             2\n",
       "Lancia         Musa                    2\n",
       "Honda          CR-V                    2\n",
       "Ford           C-MAX                   2\n",
       "               Focus                   2\n",
       "               Fusion                  2\n",
       "Hyundai        Atos                    2\n",
       "Honda          CR-Z                    2\n",
       "Hyundai        Coupe                   2\n",
       "Dacia          Lodgy                   2\n",
       "Volkswagen     Golf Sportsvan          2\n",
       "Toyota         MR2                     2\n",
       "Jeep           Wrangler                2\n",
       "Lexus          CT                      2\n",
       "Volkswagen     T-Cross                 2\n",
       "               Polo                    2\n",
       "Mercedes-Benz  GLA                     2\n",
       "Renault        Laguna                  2\n",
       "Chevrolet      Aveo                    1\n",
       "Citroen        C4 Picasso              1\n",
       "Hyundai        Matrix                  1\n",
       "Mercedes-Benz  Vito                    1\n",
       "Peugeot        107                     1\n",
       "Suzuki         Vitara                  1\n",
       "Renault        Twingo                  1\n",
       "SEAT           Ibiza                   1\n",
       "Name: count, dtype: int64"
      ]
     },
     "execution_count": 288,
     "metadata": {},
     "output_type": "execute_result"
    }
   ],
   "source": [
    "# Ajustar las opciones de visualización de pandas\n",
    "pd.set_option('display.max_rows', None)\n",
    "pd.set_option('display.max_columns', None)\n",
    "pd.set_option('display.width', None)\n",
    "pd.set_option('display.max_colwidth', None)\n",
    " \n",
    "# Mostrar el resultado completo\n",
    "df[df['fuel'].isnull()][['make','model']].value_counts()"
   ]
  },
  {
   "cell_type": "code",
   "execution_count": 248,
   "metadata": {},
   "outputs": [
    {
     "data": {
      "text/plain": [
       "np.float64(72.98507462686568)"
      ]
     },
     "execution_count": 248,
     "metadata": {},
     "output_type": "execute_result"
    }
   ],
   "source": [
    "#Del total de valores de toyotas c-hr cuantos son nulos\n",
    "df[(df['make']=='Toyota') & (df['model']=='C-HR')]['fuel'].isnull().sum()/df[(df['make']=='Toyota') & (df['model']=='C-HR')].shape[0]*100"
   ]
  },
  {
   "cell_type": "code",
   "execution_count": 249,
   "metadata": {},
   "outputs": [
    {
     "data": {
      "text/plain": [
       "fuel\n",
       "Eléctrico    143\n",
       "Gasolina      36\n",
       "Otros          2\n",
       "Name: count, dtype: int64"
      ]
     },
     "execution_count": 249,
     "metadata": {},
     "output_type": "execute_result"
    }
   ],
   "source": [
    "df[(df['make'] == 'Toyota') & (df['model'] == 'C-HR')]['fuel'].value_counts()"
   ]
  },
  {
   "cell_type": "code",
   "execution_count": 289,
   "metadata": {},
   "outputs": [
    {
     "data": {
      "text/plain": [
       "np.int64(489)"
      ]
     },
     "execution_count": 289,
     "metadata": {},
     "output_type": "execute_result"
    }
   ],
   "source": [
    "#mostrar cuantos valores nulos de los de toyota C-HR  \n",
    "df[(df['make'] == 'Toyota') & (df['model'] == 'C-HR')]['fuel'].isnull().sum()"
   ]
  },
  {
   "cell_type": "code",
   "execution_count": 290,
   "metadata": {},
   "outputs": [],
   "source": [
    "# Calcular el valor más frecuente de fuel para cada modelo de coche\n",
    "mode_fuel_by_model = df.groupby('model')['fuel'].agg(lambda x: x.mode()[0] if not x.mode().empty else None)\n",
    "\n",
    "# Función para rellenar los valores nulos\n",
    "def fill_fuel(row):\n",
    "    if pd.isnull(row['fuel']):\n",
    "        return mode_fuel_by_model[row['model']]\n",
    "    return row['fuel']\n",
    "\n",
    "# Aplicar la función para rellenar los valores nulos\n",
    "df['fuel'] = df.apply(fill_fuel, axis=1)\n"
   ]
  },
  {
   "cell_type": "code",
   "execution_count": 252,
   "metadata": {},
   "outputs": [
    {
     "data": {
      "text/plain": [
       "fuel\n",
       "Eléctrico    632\n",
       "Gasolina      36\n",
       "Otros          2\n",
       "Name: count, dtype: int64"
      ]
     },
     "execution_count": 252,
     "metadata": {},
     "output_type": "execute_result"
    }
   ],
   "source": [
    "# Mostrar que gasoina usa la marca toyota modelo C-HR\n",
    "df[(df['make'] == 'Toyota') & (df['model'] == 'C-HR')]['fuel'].value_counts()"
   ]
  },
  {
   "cell_type": "code",
   "execution_count": 253,
   "metadata": {},
   "outputs": [
    {
     "data": {
      "text/plain": [
       "np.int64(0)"
      ]
     },
     "execution_count": 253,
     "metadata": {},
     "output_type": "execute_result"
    }
   ],
   "source": [
    "df[(df['make'] == 'Toyota') & (df['model'] == 'C-HR')]['fuel'].isnull().sum()"
   ]
  },
  {
   "cell_type": "code",
   "execution_count": 293,
   "metadata": {},
   "outputs": [
    {
     "data": {
      "text/plain": [
       "Series([], Name: count, dtype: int64)"
      ]
     },
     "execution_count": 293,
     "metadata": {},
     "output_type": "execute_result"
    }
   ],
   "source": [
    "# Ajustar las opciones de visualización de pandas\n",
    "pd.set_option('display.max_rows', None)\n",
    "pd.set_option('display.max_columns', None)\n",
    "pd.set_option('display.width', None)\n",
    "pd.set_option('display.max_colwidth', None)\n",
    " \n",
    "# Mostrar el resultado completo\n",
    "df[df['fuel'].isnull()][['make','model']].value_counts()"
   ]
  },
  {
   "cell_type": "code",
   "execution_count": 292,
   "metadata": {},
   "outputs": [],
   "source": [
    "#Rellenar los modelos con Gasolina \n",
    "modelos = \"LaFerrari\",\"Indigo\",\"Esprit\"\n",
    "df.loc[df['model'].isin(modelos), 'fuel'] = 'Gasolina'\n"
   ]
  },
  {
   "cell_type": "markdown",
   "metadata": {},
   "source": [
    "### Power Nulls"
   ]
  },
  {
   "cell_type": "code",
   "execution_count": 294,
   "metadata": {},
   "outputs": [],
   "source": [
    "median_power_by_model = df.groupby('model')['power'].median()\n",
    "\n",
    "def fill_power(row):\n",
    "    if pd.isnull(row['power']):\n",
    "        return median_power_by_model[row['model']]\n",
    "    return row['power']\n",
    "\n",
    "# Aplicar la función para rellenar los valores nulos\n",
    "df['power'] = df.apply(fill_power, axis=1)"
   ]
  },
  {
   "cell_type": "code",
   "execution_count": 295,
   "metadata": {},
   "outputs": [
    {
     "data": {
      "text/plain": [
       "make     model  \n",
       "Citroen  ë-Jumpy    8\n",
       "Name: count, dtype: int64"
      ]
     },
     "execution_count": 295,
     "metadata": {},
     "output_type": "execute_result"
    }
   ],
   "source": [
    "pd.set_option('display.max_rows', None)\n",
    "pd.set_option('display.max_columns', None)\n",
    "pd.set_option('display.width', None)\n",
    "pd.set_option('display.max_colwidth', None)\n",
    " \n",
    "df[df['power'].isnull()][['make','model']].value_counts()"
   ]
  },
  {
   "cell_type": "code",
   "execution_count": 296,
   "metadata": {},
   "outputs": [],
   "source": [
    "#Rellenamos citroen e-jumpy con 100\n",
    "df.loc[(df['make'] == 'Citroen') & (df['model'] == 'ë-Jumpy'), 'power'] = 100"
   ]
  },
  {
   "cell_type": "markdown",
   "metadata": {},
   "source": [
    "### Shift Nulls"
   ]
  },
  {
   "cell_type": "code",
   "execution_count": 297,
   "metadata": {},
   "outputs": [],
   "source": [
    "# Calcular el valor más frecuente de fuel para cada modelo de coche\n",
    "mode_shift_by_model = df.groupby('model')['shift'].agg(lambda x: x.mode()[0] if not x.mode().empty else None)\n",
    "\n",
    "# Función para rellenar los valores nulos\n",
    "def fill_shift(row):\n",
    "    if pd.isnull(row['shift']):\n",
    "        return mode_shift_by_model[row['model']]\n",
    "    return row['shift']\n",
    "\n",
    "# Aplicar la función para rellenar los valores nulos\n",
    "df['shift'] = df.apply(fill_shift, axis=1)"
   ]
  },
  {
   "cell_type": "code",
   "execution_count": 298,
   "metadata": {},
   "outputs": [
    {
     "data": {
      "text/plain": [
       "make   model \n",
       "Lotus  Esprit    7\n",
       "Name: count, dtype: int64"
      ]
     },
     "execution_count": 298,
     "metadata": {},
     "output_type": "execute_result"
    }
   ],
   "source": [
    "pd.set_option('display.max_rows', None)\n",
    "pd.set_option('display.max_columns', None)\n",
    "pd.set_option('display.width', None)\n",
    "pd.set_option('display.max_colwidth', None)\n",
    " \n",
    "df[df['shift'].isnull()][['make','model']].value_counts()"
   ]
  },
  {
   "cell_type": "code",
   "execution_count": 299,
   "metadata": {},
   "outputs": [],
   "source": [
    "#Rellenamos Lotus Esprit con manual\n",
    "df.loc[(df['make'] == 'Lotus') & (df['model'] == 'Esprit'), 'shift'] = \"manual\""
   ]
  },
  {
   "cell_type": "markdown",
   "metadata": {},
   "source": [
    "----------------"
   ]
  },
  {
   "cell_type": "code",
   "execution_count": 356,
   "metadata": {},
   "outputs": [
    {
     "name": "stderr",
     "output_type": "stream",
     "text": [
      "c:\\Users\\Germán\\AppData\\Local\\Programs\\Python\\Python312\\Lib\\site-packages\\numpy\\lib\\_nanfunctions_impl.py:1231: RuntimeWarning: Mean of empty slice\n",
      "  return np.nanmean(a, axis, out=out, keepdims=keepdims)\n"
     ]
    }
   ],
   "source": [
    "#Lista de variables a rellenar\n",
    "variables = ['fuel', 'power', 'shift']\n",
    " \n",
    "# Función para calcular la moda o mediana por modelo\n",
    "def calculate_stat_by_model(df, var):\n",
    "    if var == 'power':\n",
    "        return df.groupby('model')[var].transform(lambda x: x.median() if not pd.isna(x.median()) else None)\n",
    "    else:\n",
    "        return df.groupby('model')[var].transform(lambda x: x.mode()[0] if not x.mode().empty else None)\n",
    " \n",
    "# Función para rellenar los valores nulos\n",
    "def fill_missing_values(df, var):\n",
    "    stat_by_model = calculate_stat_by_model(df, var)\n",
    "    df[var] = df[var].fillna(stat_by_model)\n",
    "    return df\n",
    " \n",
    "# Aplicar la función para cada variable\n",
    "for var in variables:\n",
    "    df = fill_missing_values(df, var)"
   ]
  },
  {
   "cell_type": "code",
   "execution_count": 361,
   "metadata": {},
   "outputs": [
    {
     "name": "stdout",
     "output_type": "stream",
     "text": [
      "Shift Nulls:\n",
      "Series([], Name: count, dtype: int64)\n",
      "\n",
      "Power Nulls:\n",
      "Series([], Name: count, dtype: int64)\n",
      "\n",
      "Fuel Nulls:\n",
      "Series([], Name: count, dtype: int64)\n"
     ]
    }
   ],
   "source": [
    "pd.set_option('display.max_rows', None)\n",
    "pd.set_option('display.max_columns', None)\n",
    "pd.set_option('display.width', None)\n",
    "pd.set_option('display.max_colwidth', None)\n",
    " \n",
    "# Mostrar el resultado completo para 'shift'\n",
    "shift_nulls = df[df['shift'].isnull()][['make', 'model']].value_counts()\n",
    "print(\"Shift Nulls:\")\n",
    "print(shift_nulls)\n",
    "\n",
    "# Mostrar el resultado completo para 'power'\n",
    "power_nulls = df[df['power'].isnull()][['make', 'model']].value_counts()\n",
    "print(\"\\nPower Nulls:\")\n",
    "print(power_nulls)\n",
    "\n",
    "# Mostrar el resultado completo para 'fuel'\n",
    "fuel_nulls = df[df['fuel'].isnull()][['make', 'model']].value_counts()\n",
    "print(\"\\nFuel Nulls:\")\n",
    "print(fuel_nulls)"
   ]
  },
  {
   "cell_type": "code",
   "execution_count": 358,
   "metadata": {},
   "outputs": [],
   "source": [
    "#Rellenamos citroen e-jumpy con 100\n",
    "df.loc[(df['make'] == 'Citroen') & (df['model'] == 'ë-Jumpy'), 'power'] = 100"
   ]
  },
  {
   "cell_type": "code",
   "execution_count": 359,
   "metadata": {},
   "outputs": [],
   "source": [
    "#Rellenamos Lotus Esprit con manual\n",
    "df.loc[(df['make'] == 'Lotus') & (df['model'] == 'Esprit'), 'shift'] = \"manual\""
   ]
  },
  {
   "cell_type": "code",
   "execution_count": 360,
   "metadata": {},
   "outputs": [],
   "source": [
    "modelos = \"LaFerrari\",\"Indigo\",\"Esprit\"\n",
    "df.loc[df['model'].isin(modelos), 'fuel'] = 'Gasolina'"
   ]
  },
  {
   "cell_type": "markdown",
   "metadata": {},
   "source": [
    "### Zip code"
   ]
  },
  {
   "cell_type": "code",
   "execution_count": 367,
   "metadata": {},
   "outputs": [
    {
     "data": {
      "text/html": [
       "<div>\n",
       "<style scoped>\n",
       "    .dataframe tbody tr th:only-of-type {\n",
       "        vertical-align: middle;\n",
       "    }\n",
       "\n",
       "    .dataframe tbody tr th {\n",
       "        vertical-align: top;\n",
       "    }\n",
       "\n",
       "    .dataframe thead th {\n",
       "        text-align: right;\n",
       "    }\n",
       "</style>\n",
       "<table border=\"1\" class=\"dataframe\">\n",
       "  <thead>\n",
       "    <tr style=\"text-align: right;\">\n",
       "      <th></th>\n",
       "      <th>make</th>\n",
       "      <th>model</th>\n",
       "      <th>version</th>\n",
       "      <th>fuel</th>\n",
       "      <th>year</th>\n",
       "      <th>kms</th>\n",
       "      <th>power</th>\n",
       "      <th>shift</th>\n",
       "      <th>price</th>\n",
       "      <th>location</th>\n",
       "      <th>publish_date</th>\n",
       "      <th>dealer_zip_code</th>\n",
       "    </tr>\n",
       "  </thead>\n",
       "  <tbody>\n",
       "  </tbody>\n",
       "</table>\n",
       "</div>"
      ],
      "text/plain": [
       "Empty DataFrame\n",
       "Columns: [make, model, version, fuel, year, kms, power, shift, price, location, publish_date, dealer_zip_code]\n",
       "Index: []"
      ]
     },
     "execution_count": 367,
     "metadata": {},
     "output_type": "execute_result"
    }
   ],
   "source": [
    "df[df['dealer_zip_code']=='Parque Empresarial San Fernando de Henares'].fillna('28830')\n",
    "df[df['dealer_zip_code']=='Collado Villalba'].fillna('28400')\n",
    "df[df['dealer_zip_code']=='Elx/Elche'].fillna('03203')"
   ]
  },
  {
   "cell_type": "markdown",
   "metadata": {},
   "source": [
    "# Dtypes"
   ]
  },
  {
   "cell_type": "code",
   "execution_count": 364,
   "metadata": {},
   "outputs": [
    {
     "data": {
      "text/plain": [
       "make                       object\n",
       "model                      object\n",
       "version                    object\n",
       "fuel                       object\n",
       "year                        int64\n",
       "kms                       float64\n",
       "power                     float64\n",
       "shift                      object\n",
       "price                       int64\n",
       "location                   object\n",
       "publish_date       datetime64[ns]\n",
       "dealer_zip_code           float64\n",
       "dtype: object"
      ]
     },
     "execution_count": 364,
     "metadata": {},
     "output_type": "execute_result"
    }
   ],
   "source": [
    "df.dtypes"
   ]
  },
  {
   "cell_type": "code",
   "execution_count": 363,
   "metadata": {},
   "outputs": [],
   "source": [
    "#Publish date to datetime\n",
    "df['publish_date'] = pd.to_datetime(df['publish_date'])"
   ]
  },
  {
   "cell_type": "markdown",
   "metadata": {},
   "source": [
    "# Getting location latitud and longitude"
   ]
  },
  {
   "cell_type": "code",
   "execution_count": null,
   "metadata": {},
   "outputs": [],
   "source": []
  },
  {
   "cell_type": "code",
   "execution_count": 371,
   "metadata": {},
   "outputs": [
    {
     "ename": "KeyboardInterrupt",
     "evalue": "",
     "output_type": "error",
     "traceback": [
      "\u001b[1;31m---------------------------------------------------------------------------\u001b[0m",
      "\u001b[1;31mKeyboardInterrupt\u001b[0m                         Traceback (most recent call last)",
      "Cell \u001b[1;32mIn[371], line 28\u001b[0m\n\u001b[0;32m     25\u001b[0m         \u001b[38;5;28;01mreturn\u001b[39;00m pd\u001b[38;5;241m.\u001b[39mSeries({\u001b[38;5;124m'\u001b[39m\u001b[38;5;124mlatitude\u001b[39m\u001b[38;5;124m'\u001b[39m: \u001b[38;5;28;01mNone\u001b[39;00m, \u001b[38;5;124m'\u001b[39m\u001b[38;5;124mlongitude\u001b[39m\u001b[38;5;124m'\u001b[39m: \u001b[38;5;28;01mNone\u001b[39;00m})\n\u001b[0;32m     27\u001b[0m \u001b[38;5;66;03m# Aplicar la función a todo el DataFrame y crear las nuevas columnas\u001b[39;00m\n\u001b[1;32m---> 28\u001b[0m df_prueba[[\u001b[38;5;124m'\u001b[39m\u001b[38;5;124mlatitude\u001b[39m\u001b[38;5;124m'\u001b[39m, \u001b[38;5;124m'\u001b[39m\u001b[38;5;124mlongitude\u001b[39m\u001b[38;5;124m'\u001b[39m]] \u001b[38;5;241m=\u001b[39m \u001b[43mdf_prueba\u001b[49m\u001b[38;5;241;43m.\u001b[39;49m\u001b[43mapply\u001b[49m\u001b[43m(\u001b[49m\u001b[43mget_lat_long\u001b[49m\u001b[43m,\u001b[49m\u001b[43m \u001b[49m\u001b[43maxis\u001b[49m\u001b[38;5;241;43m=\u001b[39;49m\u001b[38;5;241;43m1\u001b[39;49m\u001b[43m)\u001b[49m\n\u001b[0;32m     30\u001b[0m \u001b[38;5;66;03m# Guardar el DataFrame actualizado\u001b[39;00m\n\u001b[0;32m     31\u001b[0m df_prueba\u001b[38;5;241m.\u001b[39mto_csv(\u001b[38;5;124m'\u001b[39m\u001b[38;5;124mdatos_con_coordenadas.csv\u001b[39m\u001b[38;5;124m'\u001b[39m, index\u001b[38;5;241m=\u001b[39m\u001b[38;5;28;01mFalse\u001b[39;00m)  \u001b[38;5;66;03m# o df.to_excel('datos_con_coordenadas.xlsx')\u001b[39;00m\n",
      "File \u001b[1;32mc:\\Users\\Germán\\AppData\\Local\\Programs\\Python\\Python312\\Lib\\site-packages\\pandas\\core\\frame.py:10374\u001b[0m, in \u001b[0;36mDataFrame.apply\u001b[1;34m(self, func, axis, raw, result_type, args, by_row, engine, engine_kwargs, **kwargs)\u001b[0m\n\u001b[0;32m  10360\u001b[0m \u001b[38;5;28;01mfrom\u001b[39;00m \u001b[38;5;21;01mpandas\u001b[39;00m\u001b[38;5;21;01m.\u001b[39;00m\u001b[38;5;21;01mcore\u001b[39;00m\u001b[38;5;21;01m.\u001b[39;00m\u001b[38;5;21;01mapply\u001b[39;00m \u001b[38;5;28;01mimport\u001b[39;00m frame_apply\n\u001b[0;32m  10362\u001b[0m op \u001b[38;5;241m=\u001b[39m frame_apply(\n\u001b[0;32m  10363\u001b[0m     \u001b[38;5;28mself\u001b[39m,\n\u001b[0;32m  10364\u001b[0m     func\u001b[38;5;241m=\u001b[39mfunc,\n\u001b[1;32m   (...)\u001b[0m\n\u001b[0;32m  10372\u001b[0m     kwargs\u001b[38;5;241m=\u001b[39mkwargs,\n\u001b[0;32m  10373\u001b[0m )\n\u001b[1;32m> 10374\u001b[0m \u001b[38;5;28;01mreturn\u001b[39;00m \u001b[43mop\u001b[49m\u001b[38;5;241;43m.\u001b[39;49m\u001b[43mapply\u001b[49m\u001b[43m(\u001b[49m\u001b[43m)\u001b[49m\u001b[38;5;241m.\u001b[39m__finalize__(\u001b[38;5;28mself\u001b[39m, method\u001b[38;5;241m=\u001b[39m\u001b[38;5;124m\"\u001b[39m\u001b[38;5;124mapply\u001b[39m\u001b[38;5;124m\"\u001b[39m)\n",
      "File \u001b[1;32mc:\\Users\\Germán\\AppData\\Local\\Programs\\Python\\Python312\\Lib\\site-packages\\pandas\\core\\apply.py:916\u001b[0m, in \u001b[0;36mFrameApply.apply\u001b[1;34m(self)\u001b[0m\n\u001b[0;32m    913\u001b[0m \u001b[38;5;28;01melif\u001b[39;00m \u001b[38;5;28mself\u001b[39m\u001b[38;5;241m.\u001b[39mraw:\n\u001b[0;32m    914\u001b[0m     \u001b[38;5;28;01mreturn\u001b[39;00m \u001b[38;5;28mself\u001b[39m\u001b[38;5;241m.\u001b[39mapply_raw(engine\u001b[38;5;241m=\u001b[39m\u001b[38;5;28mself\u001b[39m\u001b[38;5;241m.\u001b[39mengine, engine_kwargs\u001b[38;5;241m=\u001b[39m\u001b[38;5;28mself\u001b[39m\u001b[38;5;241m.\u001b[39mengine_kwargs)\n\u001b[1;32m--> 916\u001b[0m \u001b[38;5;28;01mreturn\u001b[39;00m \u001b[38;5;28;43mself\u001b[39;49m\u001b[38;5;241;43m.\u001b[39;49m\u001b[43mapply_standard\u001b[49m\u001b[43m(\u001b[49m\u001b[43m)\u001b[49m\n",
      "File \u001b[1;32mc:\\Users\\Germán\\AppData\\Local\\Programs\\Python\\Python312\\Lib\\site-packages\\pandas\\core\\apply.py:1063\u001b[0m, in \u001b[0;36mFrameApply.apply_standard\u001b[1;34m(self)\u001b[0m\n\u001b[0;32m   1061\u001b[0m \u001b[38;5;28;01mdef\u001b[39;00m \u001b[38;5;21mapply_standard\u001b[39m(\u001b[38;5;28mself\u001b[39m):\n\u001b[0;32m   1062\u001b[0m     \u001b[38;5;28;01mif\u001b[39;00m \u001b[38;5;28mself\u001b[39m\u001b[38;5;241m.\u001b[39mengine \u001b[38;5;241m==\u001b[39m \u001b[38;5;124m\"\u001b[39m\u001b[38;5;124mpython\u001b[39m\u001b[38;5;124m\"\u001b[39m:\n\u001b[1;32m-> 1063\u001b[0m         results, res_index \u001b[38;5;241m=\u001b[39m \u001b[38;5;28;43mself\u001b[39;49m\u001b[38;5;241;43m.\u001b[39;49m\u001b[43mapply_series_generator\u001b[49m\u001b[43m(\u001b[49m\u001b[43m)\u001b[49m\n\u001b[0;32m   1064\u001b[0m     \u001b[38;5;28;01melse\u001b[39;00m:\n\u001b[0;32m   1065\u001b[0m         results, res_index \u001b[38;5;241m=\u001b[39m \u001b[38;5;28mself\u001b[39m\u001b[38;5;241m.\u001b[39mapply_series_numba()\n",
      "File \u001b[1;32mc:\\Users\\Germán\\AppData\\Local\\Programs\\Python\\Python312\\Lib\\site-packages\\pandas\\core\\apply.py:1081\u001b[0m, in \u001b[0;36mFrameApply.apply_series_generator\u001b[1;34m(self)\u001b[0m\n\u001b[0;32m   1078\u001b[0m \u001b[38;5;28;01mwith\u001b[39;00m option_context(\u001b[38;5;124m\"\u001b[39m\u001b[38;5;124mmode.chained_assignment\u001b[39m\u001b[38;5;124m\"\u001b[39m, \u001b[38;5;28;01mNone\u001b[39;00m):\n\u001b[0;32m   1079\u001b[0m     \u001b[38;5;28;01mfor\u001b[39;00m i, v \u001b[38;5;129;01min\u001b[39;00m \u001b[38;5;28menumerate\u001b[39m(series_gen):\n\u001b[0;32m   1080\u001b[0m         \u001b[38;5;66;03m# ignore SettingWithCopy here in case the user mutates\u001b[39;00m\n\u001b[1;32m-> 1081\u001b[0m         results[i] \u001b[38;5;241m=\u001b[39m \u001b[38;5;28;43mself\u001b[39;49m\u001b[38;5;241;43m.\u001b[39;49m\u001b[43mfunc\u001b[49m\u001b[43m(\u001b[49m\u001b[43mv\u001b[49m\u001b[43m,\u001b[49m\u001b[43m \u001b[49m\u001b[38;5;241;43m*\u001b[39;49m\u001b[38;5;28;43mself\u001b[39;49m\u001b[38;5;241;43m.\u001b[39;49m\u001b[43margs\u001b[49m\u001b[43m,\u001b[49m\u001b[43m \u001b[49m\u001b[38;5;241;43m*\u001b[39;49m\u001b[38;5;241;43m*\u001b[39;49m\u001b[38;5;28;43mself\u001b[39;49m\u001b[38;5;241;43m.\u001b[39;49m\u001b[43mkwargs\u001b[49m\u001b[43m)\u001b[49m\n\u001b[0;32m   1082\u001b[0m         \u001b[38;5;28;01mif\u001b[39;00m \u001b[38;5;28misinstance\u001b[39m(results[i], ABCSeries):\n\u001b[0;32m   1083\u001b[0m             \u001b[38;5;66;03m# If we have a view on v, we need to make a copy because\u001b[39;00m\n\u001b[0;32m   1084\u001b[0m             \u001b[38;5;66;03m#  series_generator will swap out the underlying data\u001b[39;00m\n\u001b[0;32m   1085\u001b[0m             results[i] \u001b[38;5;241m=\u001b[39m results[i]\u001b[38;5;241m.\u001b[39mcopy(deep\u001b[38;5;241m=\u001b[39m\u001b[38;5;28;01mFalse\u001b[39;00m)\n",
      "Cell \u001b[1;32mIn[371], line 15\u001b[0m, in \u001b[0;36mget_lat_long\u001b[1;34m(row)\u001b[0m\n\u001b[0;32m     11\u001b[0m query \u001b[38;5;241m=\u001b[39m \u001b[38;5;124mf\u001b[39m\u001b[38;5;124m\"\u001b[39m\u001b[38;5;132;01m{\u001b[39;00mrow[\u001b[38;5;124m'\u001b[39m\u001b[38;5;124mdealer_zip_code\u001b[39m\u001b[38;5;124m'\u001b[39m]\u001b[38;5;132;01m}\u001b[39;00m\u001b[38;5;124m, \u001b[39m\u001b[38;5;132;01m{\u001b[39;00mrow[\u001b[38;5;124m'\u001b[39m\u001b[38;5;124mlocation\u001b[39m\u001b[38;5;124m'\u001b[39m]\u001b[38;5;132;01m}\u001b[39;00m\u001b[38;5;124m, España\u001b[39m\u001b[38;5;124m\"\u001b[39m\n\u001b[0;32m     13\u001b[0m \u001b[38;5;28;01mtry\u001b[39;00m:\n\u001b[0;32m     14\u001b[0m     \u001b[38;5;66;03m# Añadir un pequeño delay para respetar los límites de la API\u001b[39;00m\n\u001b[1;32m---> 15\u001b[0m     \u001b[43mtime\u001b[49m\u001b[38;5;241;43m.\u001b[39;49m\u001b[43msleep\u001b[49m\u001b[43m(\u001b[49m\u001b[38;5;241;43m1\u001b[39;49m\u001b[43m)\u001b[49m\n\u001b[0;32m     16\u001b[0m     location \u001b[38;5;241m=\u001b[39m geolocator\u001b[38;5;241m.\u001b[39mgeocode(query)\n\u001b[0;32m     18\u001b[0m     \u001b[38;5;28;01mif\u001b[39;00m location:\n",
      "\u001b[1;31mKeyboardInterrupt\u001b[0m: "
     ]
    }
   ],
   "source": [
    "from geopy.geocoders import Nominatim\n",
    "import pandas as pd\n",
    "import time\n",
    "\n",
    "df_prueba = df[df[\"location\"]==\"Sabadell\"]\n",
    "# Crear el geocodificador\n",
    "geolocator = Nominatim(user_agent=\"my_app\")\n",
    "\n",
    "def get_lat_long(row):\n",
    "    # Construir la consulta con código postal y ciudad\n",
    "    query = f\"{row['dealer_zip_code']}, {row['location']}, España\"\n",
    "    \n",
    "    try:\n",
    "        # Añadir un pequeño delay para respetar los límites de la API\n",
    "        time.sleep(1)\n",
    "        location = geolocator.geocode(query)\n",
    "        \n",
    "        if location:\n",
    "            return pd.Series({'latitude': location.latitude, 'longitude': location.longitude})\n",
    "        else:\n",
    "            return pd.Series({'latitude': None, 'longitude': None})\n",
    "            \n",
    "    except Exception as e:\n",
    "        print(f\"Error con la consulta {query}: {str(e)}\")\n",
    "        return pd.Series({'latitude': None, 'longitude': None})\n",
    "\n",
    "# Aplicar la función a todo el DataFrame y crear las nuevas columnas\n",
    "df_prueba[['latitude', 'longitude']] = df_prueba.apply(get_lat_long, axis=1)\n",
    "\n",
    "# Guardar el DataFrame actualizado\n",
    "df_prueba.to_csv('datos_con_coordenadas.csv', index=False)  # o df.to_excel('datos_con_coordenadas.xlsx')\n",
    "\n",
    "# Mostrar las primeras filas para verificar\n",
    "print(df_prueba.head())\n",
    "\n",
    "# Mostrar un resumen de cuántas coordenadas se obtuvieron exitosamente\n",
    "print(\"\\nResumen:\")\n",
    "print(f\"Total de filas: {len(df_prueba)}\")\n",
    "print(f\"Coordenadas obtenidas: {df_prueba['latitude'].notna().sum()}\")\n",
    "print(f\"Coordenadas faltantes: {df_prueba['latitude'].isna().sum()}\")"
   ]
  },
  {
   "cell_type": "code",
   "execution_count": 372,
   "metadata": {},
   "outputs": [
    {
     "name": "stdout",
     "output_type": "stream",
     "text": [
      "Google Building 41, 1600, Amphitheatre Parkway, Mountain View, Santa Clara County, California, 94043, United States\n",
      "(37.42248575, -122.08558456613565)\n"
     ]
    }
   ],
   "source": [
    "# Crear el geocodificador con un user_agent único\n",
    "geolocator = Nominatim(user_agent=\"my_unique_app\")\n",
    " \n",
    "# Ejemplo de uso: obtener la ubicación de una dirección\n",
    "location = geolocator.geocode(\"1600 Amphitheatre Parkway, Mountain View, CA\")\n",
    "print(location.address)\n",
    "print((location.latitude, location.longitude))"
   ]
  }
 ],
 "metadata": {
  "kernelspec": {
   "display_name": "Python 3",
   "language": "python",
   "name": "python3"
  },
  "language_info": {
   "codemirror_mode": {
    "name": "ipython",
    "version": 3
   },
   "file_extension": ".py",
   "mimetype": "text/x-python",
   "name": "python",
   "nbconvert_exporter": "python",
   "pygments_lexer": "ipython3",
   "version": "3.12.7"
  }
 },
 "nbformat": 4,
 "nbformat_minor": 2
}
