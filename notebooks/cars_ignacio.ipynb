{
 "cells": [
  {
   "cell_type": "code",
   "execution_count": 21,
   "metadata": {},
   "outputs": [],
   "source": [
    "import pandas as pd\n",
    "import numpy as np\n",
    "import seaborn as sns\n",
    "import matplotlib.pyplot as plt\n",
    "import plotly.express as px"
   ]
  },
  {
   "cell_type": "markdown",
   "metadata": {},
   "source": [
    "## Load Data"
   ]
  },
  {
   "cell_type": "code",
   "execution_count": 2,
   "metadata": {},
   "outputs": [],
   "source": [
    "df = pd.read_csv(r'C:\\Users\\Usuario\\Desktop\\botcamp\\Trabajo final\\vehiculos-de-segunda-mano-sample.csv')"
   ]
  },
  {
   "cell_type": "code",
   "execution_count": 3,
   "metadata": {},
   "outputs": [
    {
     "data": {
      "text/html": [
       "<div>\n",
       "<style scoped>\n",
       "    .dataframe tbody tr th:only-of-type {\n",
       "        vertical-align: middle;\n",
       "    }\n",
       "\n",
       "    .dataframe tbody tr th {\n",
       "        vertical-align: top;\n",
       "    }\n",
       "\n",
       "    .dataframe thead th {\n",
       "        text-align: right;\n",
       "    }\n",
       "</style>\n",
       "<table border=\"1\" class=\"dataframe\">\n",
       "  <thead>\n",
       "    <tr style=\"text-align: right;\">\n",
       "      <th></th>\n",
       "      <th>vehicle_type</th>\n",
       "      <th>make</th>\n",
       "      <th>model</th>\n",
       "      <th>version</th>\n",
       "      <th>fuel</th>\n",
       "      <th>year</th>\n",
       "      <th>kms</th>\n",
       "      <th>power</th>\n",
       "      <th>doors</th>\n",
       "      <th>shift</th>\n",
       "      <th>...</th>\n",
       "      <th>dealer_name</th>\n",
       "      <th>dealer_description</th>\n",
       "      <th>dealer_address</th>\n",
       "      <th>dealer_zip_code</th>\n",
       "      <th>dealer_city</th>\n",
       "      <th>dealer_country_code</th>\n",
       "      <th>dealer_is_professional</th>\n",
       "      <th>dealer_website</th>\n",
       "      <th>dealer_registered_at</th>\n",
       "      <th>date</th>\n",
       "    </tr>\n",
       "  </thead>\n",
       "  <tbody>\n",
       "    <tr>\n",
       "      <th>0</th>\n",
       "      <td>car</td>\n",
       "      <td>Opel</td>\n",
       "      <td>Crossland</td>\n",
       "      <td>1.2 GAS 110 GS Line 5p S/S</td>\n",
       "      <td>Gasolina</td>\n",
       "      <td>2022</td>\n",
       "      <td>5.0</td>\n",
       "      <td>110.0</td>\n",
       "      <td>NaN</td>\n",
       "      <td>manual</td>\n",
       "      <td>...</td>\n",
       "      <td>Sergio Y.</td>\n",
       "      <td>NaN</td>\n",
       "      <td>2, Carrer de Jacint Benavente, Poblenou, Pined...</td>\n",
       "      <td>8397.0</td>\n",
       "      <td>Pineda de Mar</td>\n",
       "      <td>ES</td>\n",
       "      <td>True</td>\n",
       "      <td>www.cocheauto.com</td>\n",
       "      <td>2017-01-18</td>\n",
       "      <td>2023-02-06</td>\n",
       "    </tr>\n",
       "  </tbody>\n",
       "</table>\n",
       "<p>1 rows × 28 columns</p>\n",
       "</div>"
      ],
      "text/plain": [
       "  vehicle_type  make      model                     version      fuel  year  \\\n",
       "0          car  Opel  Crossland  1.2 GAS 110 GS Line 5p S/S  Gasolina  2022   \n",
       "\n",
       "   kms  power  doors   shift  ...  dealer_name  dealer_description  \\\n",
       "0  5.0  110.0    NaN  manual  ...    Sergio Y.                 NaN   \n",
       "\n",
       "                                      dealer_address  dealer_zip_code  \\\n",
       "0  2, Carrer de Jacint Benavente, Poblenou, Pined...           8397.0   \n",
       "\n",
       "     dealer_city dealer_country_code dealer_is_professional  \\\n",
       "0  Pineda de Mar                  ES                   True   \n",
       "\n",
       "      dealer_website dealer_registered_at        date  \n",
       "0  www.cocheauto.com           2017-01-18  2023-02-06  \n",
       "\n",
       "[1 rows x 28 columns]"
      ]
     },
     "execution_count": 3,
     "metadata": {},
     "output_type": "execute_result"
    }
   ],
   "source": [
    "df.head(1)"
   ]
  },
  {
   "cell_type": "markdown",
   "metadata": {},
   "source": [
    "## Duplicados"
   ]
  },
  {
   "cell_type": "code",
   "execution_count": 4,
   "metadata": {},
   "outputs": [],
   "source": [
    "# Eliminamos duplicados \n",
    "df = df.drop_duplicates()"
   ]
  },
  {
   "cell_type": "code",
   "execution_count": 5,
   "metadata": {},
   "outputs": [
    {
     "name": "stdout",
     "output_type": "stream",
     "text": [
      "(99763, 28)\n"
     ]
    }
   ],
   "source": [
    "print(df.shape)"
   ]
  },
  {
   "cell_type": "code",
   "execution_count": 6,
   "metadata": {},
   "outputs": [
    {
     "name": "stdout",
     "output_type": "stream",
     "text": [
      "Index(['vehicle_type', 'make', 'model', 'version', 'fuel', 'year', 'kms',\n",
      "       'power', 'doors', 'shift', 'color', 'photos', 'description', 'price',\n",
      "       'currency', 'location', 'publish_date', 'update_date', 'dealer_name',\n",
      "       'dealer_description', 'dealer_address', 'dealer_zip_code',\n",
      "       'dealer_city', 'dealer_country_code', 'dealer_is_professional',\n",
      "       'dealer_website', 'dealer_registered_at', 'date'],\n",
      "      dtype='object')\n"
     ]
    }
   ],
   "source": [
    "#Mostrar nombres de cada columna en una lista\n",
    "print(df.columns)\n"
   ]
  },
  {
   "cell_type": "markdown",
   "metadata": {},
   "source": [
    "Drop columns"
   ]
  },
  {
   "cell_type": "code",
   "execution_count": 7,
   "metadata": {},
   "outputs": [],
   "source": [
    "#Drop 'vehicle_type','doors','color','photos', 'description','currency','update_date','dealer_description','dealer_address', 'dealer_zip_code','dealer_is_professional','dealer_city', 'dealer_country_code','dealer_website','dealer_registered_at', 'date'\n",
    "df = df.drop(['dealer_name','vehicle_type','doors','color','photos', 'description','currency','update_date','dealer_description','dealer_address','dealer_is_professional','dealer_city', 'dealer_country_code','dealer_website','dealer_registered_at', 'date'], axis=1)"
   ]
  },
  {
   "cell_type": "markdown",
   "metadata": {},
   "source": [
    "## Nulls"
   ]
  },
  {
   "cell_type": "code",
   "execution_count": 8,
   "metadata": {},
   "outputs": [
    {
     "data": {
      "text/plain": [
       "make               0.000000\n",
       "model              0.000000\n",
       "version            0.158375\n",
       "fuel               3.184547\n",
       "year               0.000000\n",
       "kms                0.810922\n",
       "power              0.283672\n",
       "shift              1.020418\n",
       "price              0.000000\n",
       "location           0.000000\n",
       "publish_date       0.000000\n",
       "dealer_zip_code    0.092219\n",
       "dtype: float64"
      ]
     },
     "execution_count": 8,
     "metadata": {},
     "output_type": "execute_result"
    }
   ],
   "source": [
    "#Mostramos los nulos en porcetaje con relacion al total por cada fila \n",
    "df.isnull().sum()/df.shape[0]*100"
   ]
  },
  {
   "cell_type": "markdown",
   "metadata": {},
   "source": [
    "### Drop nulls from version and kms"
   ]
  },
  {
   "cell_type": "code",
   "execution_count": 9,
   "metadata": {},
   "outputs": [],
   "source": [
    "#Drop nuls de \"verion\", kms, power,dealer_name\n",
    "df = df.dropna(subset=['version', 'kms'])"
   ]
  },
  {
   "cell_type": "markdown",
   "metadata": {},
   "source": [
    "### Fixing Fuel, Power and Shift"
   ]
  },
  {
   "cell_type": "code",
   "execution_count": 10,
   "metadata": {},
   "outputs": [
    {
     "name": "stderr",
     "output_type": "stream",
     "text": [
      "c:\\Users\\Usuario\\AppData\\Local\\Programs\\Python\\Python310\\lib\\site-packages\\numpy\\lib\\nanfunctions.py:1215: RuntimeWarning: Mean of empty slice\n",
      "  return np.nanmean(a, axis, out=out, keepdims=keepdims)\n"
     ]
    }
   ],
   "source": [
    "#Lista de variables a rellenar\n",
    "variables = ['fuel', 'power', 'shift']\n",
    " \n",
    "# Función para calcular la moda o mediana por modelo\n",
    "def calculate_stat_by_model(df, var):\n",
    "    if var == 'power':\n",
    "        return df.groupby('model')[var].transform(lambda x: x.median() if not pd.isna(x.median()) else None)\n",
    "    else:\n",
    "        return df.groupby('model')[var].transform(lambda x: x.mode()[0] if not x.mode().empty else None)\n",
    " \n",
    "# Función para rellenar los valores nulos\n",
    "def fill_missing_values(df, var):\n",
    "    stat_by_model = calculate_stat_by_model(df, var)\n",
    "    df[var] = df[var].fillna(stat_by_model)\n",
    "    return df\n",
    " \n",
    "# Aplicar la función para cada variable\n",
    "for var in variables:\n",
    "    df = fill_missing_values(df, var)"
   ]
  },
  {
   "cell_type": "code",
   "execution_count": 11,
   "metadata": {},
   "outputs": [
    {
     "name": "stdout",
     "output_type": "stream",
     "text": [
      "Shift Nulls:\n",
      "make   model \n",
      "Lotus  Esprit    7\n",
      "Name: count, dtype: int64\n",
      "\n",
      "Power Nulls:\n",
      "make     model  \n",
      "Citroen  ë-Jumpy    8\n",
      "Name: count, dtype: int64\n",
      "\n",
      "Fuel Nulls:\n",
      "make     model    \n",
      "Ferrari  LaFerrari    8\n",
      "Lotus    Esprit       7\n",
      "Tata     Indigo       6\n",
      "Name: count, dtype: int64\n"
     ]
    }
   ],
   "source": [
    "pd.set_option('display.max_rows', None)\n",
    "pd.set_option('display.max_columns', None)\n",
    "pd.set_option('display.width', None)\n",
    "pd.set_option('display.max_colwidth', None)\n",
    " \n",
    "# Mostrar el resultado completo para 'shift'\n",
    "shift_nulls = df[df['shift'].isnull()][['make', 'model']].value_counts()\n",
    "print(\"Shift Nulls:\")\n",
    "print(shift_nulls)\n",
    "\n",
    "# Mostrar el resultado completo para 'power'\n",
    "power_nulls = df[df['power'].isnull()][['make', 'model']].value_counts()\n",
    "print(\"\\nPower Nulls:\")\n",
    "print(power_nulls)\n",
    "\n",
    "# Mostrar el resultado completo para 'fuel'\n",
    "fuel_nulls = df[df['fuel'].isnull()][['make', 'model']].value_counts()\n",
    "print(\"\\nFuel Nulls:\")\n",
    "print(fuel_nulls)"
   ]
  },
  {
   "cell_type": "code",
   "execution_count": 12,
   "metadata": {},
   "outputs": [],
   "source": [
    "#Rellenamos citroen e-jumpy con 100\n",
    "df.loc[(df['make'] == 'Citroen') & (df['model'] == 'ë-Jumpy'), 'power'] = 100"
   ]
  },
  {
   "cell_type": "code",
   "execution_count": 13,
   "metadata": {},
   "outputs": [],
   "source": [
    "#Rellenamos Lotus Esprit con manual\n",
    "df.loc[(df['make'] == 'Lotus') & (df['model'] == 'Esprit'), 'shift'] = \"manual\""
   ]
  },
  {
   "cell_type": "code",
   "execution_count": 14,
   "metadata": {},
   "outputs": [],
   "source": [
    "modelos = \"LaFerrari\",\"Indigo\",\"Esprit\"\n",
    "df.loc[df['model'].isin(modelos), 'fuel'] = 'Gasolina'"
   ]
  },
  {
   "cell_type": "markdown",
   "metadata": {},
   "source": [
    "# Zip code"
   ]
  },
  {
   "cell_type": "code",
   "execution_count": 15,
   "metadata": {},
   "outputs": [
    {
     "name": "stdout",
     "output_type": "stream",
     "text": [
      "92\n"
     ]
    }
   ],
   "source": [
    "#Mostramos la cantidad de filas donde dealer_zip_code es nulo\n",
    "print(df['dealer_zip_code'].isnull().sum())"
   ]
  },
  {
   "cell_type": "code",
   "execution_count": 16,
   "metadata": {},
   "outputs": [],
   "source": [
    "#Drop dealer_zip_code nulls\n",
    "df = df.dropna(subset=['dealer_zip_code'])"
   ]
  },
  {
   "cell_type": "code",
   "execution_count": 17,
   "metadata": {},
   "outputs": [],
   "source": [
    "# df[df['dealer_zip_code']=='Parque Empresarial San Fernando de Henares'].fillna('28830')\n",
    "# df[df['dealer_zip_code']=='Collado Villalba'].fillna('28400')\n",
    "# df[df['dealer_zip_code']=='Elx/Elche'].fillna('03203')"
   ]
  },
  {
   "cell_type": "markdown",
   "metadata": {},
   "source": [
    "# Dtypes"
   ]
  },
  {
   "cell_type": "code",
   "execution_count": 18,
   "metadata": {},
   "outputs": [
    {
     "data": {
      "text/plain": [
       "make                object\n",
       "model               object\n",
       "version             object\n",
       "fuel                object\n",
       "year                 int64\n",
       "kms                float64\n",
       "power              float64\n",
       "shift               object\n",
       "price                int64\n",
       "location            object\n",
       "publish_date        object\n",
       "dealer_zip_code    float64\n",
       "dtype: object"
      ]
     },
     "execution_count": 18,
     "metadata": {},
     "output_type": "execute_result"
    }
   ],
   "source": [
    "df.dtypes"
   ]
  },
  {
   "cell_type": "code",
   "execution_count": 19,
   "metadata": {},
   "outputs": [],
   "source": [
    "#Publish date to datetime\n",
    "df['publish_date'] = pd.to_datetime(df['publish_date'])"
   ]
  },
  {
   "cell_type": "markdown",
   "metadata": {},
   "source": [
    "# Getting location latitud and longitude"
   ]
  },
  {
   "cell_type": "markdown",
   "metadata": {},
   "source": [
    "### Análisis de correlación de las variables númericas"
   ]
  },
  {
   "cell_type": "code",
   "execution_count": 22,
   "metadata": {},
   "outputs": [
    {
     "data": {
      "image/png": "[encoded data removed]",
      "text/plain": [
       "<Figure size 1000x800 with 1 Axes>"
      ]
     },
     "metadata": {},
     "output_type": "display_data"
    }
   ],
   "source": [
    "# Seleccionar solo las columnas numéricas\n",
    "df_num = df.select_dtypes(include=['number'])\n",
    " \n",
    "# Calcular la matriz de correlación\n",
    "df_cor = df_num.corr(method='pearson')\n",
    " \n",
    "# Graficar la matriz de correlación\n",
    "plt.figure(figsize=(10, 8))\n",
    "sns.heatmap(df_cor, annot=True, fmt=\".2f\", cmap='coolwarm', cbar=False,\n",
    "            annot_kws={\"color\": \"black\"}, linewidths=.5)\n",
    "plt.xticks(rotation=45)\n",
    "plt.yticks(rotation=0)\n",
    "plt.show()"
   ]
  },
  {
   "cell_type": "markdown",
   "metadata": {},
   "source": [
    "Como se puede observar en la matriz, las variables independientes entre si no exceden el 0.7 de correlación por tanto no se muestran problemas en este sentido."
   ]
  },
  {
   "cell_type": "markdown",
   "metadata": {},
   "source": [
    "### Análisis exploratorio de los datos (EDA)"
   ]
  },
  {
   "cell_type": "markdown",
   "metadata": {},
   "source": [
    "Top 10 de los anuncios ofertados según el modelo de los coches"
   ]
  },
  {
   "cell_type": "code",
   "execution_count": 23,
   "metadata": {},
   "outputs": [
    {
     "name": "stdout",
     "output_type": "stream",
     "text": [
      "        model  count\n",
      "0          C3   3993\n",
      "1    Berlingo   3755\n",
      "2  C4 Picasso   1701\n",
      "3    Talisman   1600\n",
      "4    C-Élysée   1110\n",
      "5         500   1106\n",
      "6    Sportage    969\n",
      "7      Carens    828\n",
      "8        Leon    670\n",
      "9        C-HR    670\n"
     ]
    }
   ],
   "source": [
    "# Contar la cantidad de anuncios por modelo\n",
    "model_counts = df['model'].value_counts().reset_index()\n",
    "\n",
    "# Renombrar las columnas para mayor claridad\n",
    "model_counts.columns = ['model', 'count']\n",
    "\n",
    "# Mostrar el top 10 de modelos con más anuncios\n",
    "top_10_models = model_counts.head(10)\n",
    "\n",
    "print(top_10_models)"
   ]
  },
  {
   "cell_type": "markdown",
   "metadata": {},
   "source": [
    "Top 10 de las marcas más anunciadas"
   ]
  },
  {
   "cell_type": "code",
   "execution_count": 24,
   "metadata": {},
   "outputs": [
    {
     "name": "stdout",
     "output_type": "stream",
     "text": [
      "         make  count\n",
      "0     Citroen  16306\n",
      "1  Volkswagen   5550\n",
      "2        Audi   5303\n",
      "3     Renault   5273\n",
      "4        Ford   4848\n",
      "5     Peugeot   4845\n",
      "6         KIA   4695\n",
      "7        Opel   4541\n",
      "8     Hyundai   3648\n",
      "9         BMW   3482\n"
     ]
    }
   ],
   "source": [
    "# Contar la cantidad de anuncios por marca\n",
    "make_counts = df['make'].value_counts().reset_index()\n",
    "\n",
    "# Renombrar las columnas para mayor claridad\n",
    "make_counts.columns = ['make', 'count']\n",
    "\n",
    "# Mostrar el top 10 de marcas con más anuncios\n",
    "top_10_makes = make_counts.head(10)\n",
    "\n",
    "print(top_10_makes)"
   ]
  },
  {
   "cell_type": "markdown",
   "metadata": {},
   "source": [
    "Gráfico de barras del top 10 de la marca y modelo de los coches más anunciados"
   ]
  },
  {
   "cell_type": "code",
   "execution_count": 26,
   "metadata": {},
   "outputs": [
    {
     "data": {
      "image/png": "[encoded data removed]",
      "text/plain": [
       "<Figure size 1200x800 with 1 Axes>"
      ]
     },
     "metadata": {},
     "output_type": "display_data"
    }
   ],
   "source": [
    "# Crear una nueva columna combinada 'make_model'\n",
    "df['make_model'] = df['make'] + ' ' + df['model']\n",
    "\n",
    "# Contar la cantidad de anuncios por marca y modelo\n",
    "make_model_counts = df['make_model'].value_counts().reset_index()\n",
    "\n",
    "# Renombrar las columnas para mayor claridad\n",
    "make_model_counts.columns = ['make_model', 'count']\n",
    "\n",
    "# Obtener el top 10 de marcas y modelos con más anuncios\n",
    "top_10_make_models = make_model_counts.head(10)\n",
    "\n",
    "# Crear el gráfico de barras\n",
    "plt.figure(figsize=(12, 8))\n",
    "plt.barh(top_10_make_models['make_model'], top_10_make_models['count'], color='skyblue')\n",
    "plt.xlabel('Cantidad de Anuncios')\n",
    "plt.ylabel('Marca y Modelo')\n",
    "plt.title('Top 10 de Marcas y Modelos Más Anunciados')\n",
    "plt.gca().invert_yaxis()  # Invertir el eje y para que el top 10 aparezca en la parte superior\n",
    "plt.show()"
   ]
  },
  {
   "cell_type": "markdown",
   "metadata": {},
   "source": [
    "Gráfico comparativo del precio promedio de los coches según el tipo de combustible"
   ]
  },
  {
   "cell_type": "code",
   "execution_count": 32,
   "metadata": {},
   "outputs": [
    {
     "data": {
      "image/png": "[encoded data removed]",
      "text/plain": [
       "<Figure size 1200x800 with 1 Axes>"
      ]
     },
     "metadata": {},
     "output_type": "display_data"
    }
   ],
   "source": [
    "# Calcular el precio promedio, máximo y mínimo según el tipo de combustible\n",
    "price_stats_by_fuel = df.groupby('fuel')['price'].agg(['mean', 'max', 'min']).reset_index()\n",
    "\n",
    "# Renombrar las columnas para mayor claridad\n",
    "price_stats_by_fuel.columns = ['fuel', 'average_price', 'max_price', 'min_price']\n",
    "\n",
    "# Crear el gráfico de barras agrupadas\n",
    "fig, ax = plt.subplots(figsize=(12, 8))\n",
    "\n",
    "# Crear barras para el precio promedio\n",
    "ax.bar(price_stats_by_fuel['fuel'], price_stats_by_fuel['average_price'], label='Precio Promedio', color='skyblue')\n",
    "\n",
    "# Crear barras para el precio máximo\n",
    "ax.bar(price_stats_by_fuel['fuel'], price_stats_by_fuel['max_price'], label='Precio Máximo', color='lightgreen', alpha=0.7)\n",
    "\n",
    "# Crear barras para el precio mínimo\n",
    "ax.bar(price_stats_by_fuel['fuel'], price_stats_by_fuel['min_price'], label='Precio Mínimo', color='salmon', alpha=0.7)\n",
    "\n",
    "# Añadir etiquetas y título\n",
    "ax.set_xlabel('Tipo de Combustible')\n",
    "ax.set_ylabel('Precio')\n",
    "ax.set_title('Precio Promedio, Máximo y Mínimo de Coches según el Tipo de Combustible')\n",
    "ax.legend()\n",
    "\n",
    "# Rotar las etiquetas del eje x para mayor claridad\n",
    "plt.xticks(rotation=45)\n",
    "\n",
    "# Mostrar el gráfico\n",
    "plt.show()"
   ]
  },
  {
   "cell_type": "markdown",
   "metadata": {},
   "source": [
    "Treemap de las marcas anunciadas"
   ]
  },
  {
   "cell_type": "code",
   "execution_count": null,
   "metadata": {},
   "outputs": [
    {
     "data": {
      "application/vnd.plotly.v1+json": {
       "config": {
        "plotlyServerURL": "https://plot.ly"
       },
       "data": [
        {
         "branchvalues": "total",
         "customdata": [
          [
           947
          ],
          [
           1638
          ],
          [
           61
          ],
          [
           361
          ],
          [
           5303
          ],
          [
           3482
          ],
          [
           240
          ],
          [
           747
          ],
          [
           212
          ],
          [
           1307
          ],
          [
           116
          ],
          [
           16306
          ],
          [
           8
          ],
          [
           353
          ],
          [
           958
          ],
          [
           83
          ],
          [
           19
          ],
          [
           364
          ],
          [
           239
          ],
          [
           2405
          ],
          [
           4848
          ],
          [
           30
          ],
          [
           1227
          ],
          [
           51
          ],
          [
           3648
          ],
          [
           1358
          ],
          [
           24
          ],
          [
           36
          ],
          [
           1085
          ],
          [
           797
          ],
          [
           4695
          ],
          [
           7
          ],
          [
           1
          ],
          [
           143
          ],
          [
           413
          ],
          [
           1906
          ],
          [
           1528
          ],
          [
           64
          ],
          [
           125
          ],
          [
           221
          ],
          [
           8
          ],
          [
           629
          ],
          [
           2335
          ],
          [
           8
          ],
          [
           2698
          ],
          [
           880
          ],
          [
           3429
          ],
          [
           4541
          ],
          [
           4845
          ],
          [
           1244
          ],
          [
           5273
          ],
          [
           9
          ],
          [
           42
          ],
          [
           1490
          ],
          [
           62
          ],
          [
           9
          ],
          [
           857
          ],
          [
           537
          ],
          [
           697
          ],
          [
           728
          ],
          [
           81
          ],
          [
           482
          ],
          [
           3007
          ],
          [
           7
          ],
          [
           5550
          ],
          [
           1900
          ]
         ],
         "domain": {
          "x": [
           0,
           1
          ],
          "y": [
           0,
           1
          ]
         },
         "hovertemplate": "labels=%{label}<br>count_sum=%{value}<br>parent=%{parent}<br>id=%{id}<br>count=%{color}<extra></extra>",
         "ids": [
          "Abarth",
          "Alfa Romeo",
          "Alpine",
          "Aston Martin",
          "Audi",
          "BMW",
          "Bentley",
          "CUPRA",
          "Cadillac",
          "Chevrolet",
          "Chrysler",
          "Citroen",
          "Corvette",
          "DS",
          "Dacia",
          "Daewoo",
          "Daihatsu",
          "Dodge",
          "Ferrari",
          "Fiat",
          "Ford",
          "Galloper",
          "Honda",
          "Hummer",
          "Hyundai",
          "Infiniti",
          "Isuzu",
          "Iveco",
          "Jaguar",
          "Jeep",
          "KIA",
          "KTM",
          "Lada",
          "Lamborghini",
          "Lancia",
          "Land Rover",
          "Lexus",
          "Lotus",
          "MG",
          "MINI",
          "Mahindra",
          "Maserati",
          "Mazda",
          "McLaren",
          "Mercedes-Benz",
          "Mitsubishi",
          "Nissan",
          "Opel",
          "Peugeot",
          "Porsche",
          "Renault",
          "Renault Trucks",
          "Rover",
          "SEAT",
          "Saab",
          "Santana",
          "Skoda",
          "SsangYong",
          "Subaru",
          "Suzuki",
          "Tata",
          "Tesla",
          "Toyota",
          "VAZ",
          "Volkswagen",
          "Volvo"
         ],
         "labels": [
          "Abarth",
          "Alfa Romeo",
          "Alpine",
          "Aston Martin",
          "Audi",
          "BMW",
          "Bentley",
          "CUPRA",
          "Cadillac",
          "Chevrolet",
          "Chrysler",
          "Citroen",
          "Corvette",
          "DS",
          "Dacia",
          "Daewoo",
          "Daihatsu",
          "Dodge",
          "Ferrari",
          "Fiat",
          "Ford",
          "Galloper",
          "Honda",
          "Hummer",
          "Hyundai",
          "Infiniti",
          "Isuzu",
          "Iveco",
          "Jaguar",
          "Jeep",
          "KIA",
          "KTM",
          "Lada",
          "Lamborghini",
          "Lancia",
          "Land Rover",
          "Lexus",
          "Lotus",
          "MG",
          "MINI",
          "Mahindra",
          "Maserati",
          "Mazda",
          "McLaren",
          "Mercedes-Benz",
          "Mitsubishi",
          "Nissan",
          "Opel",
          "Peugeot",
          "Porsche",
          "Renault",
          "Renault Trucks",
          "Rover",
          "SEAT",
          "Saab",
          "Santana",
          "Skoda",
          "SsangYong",
          "Subaru",
          "Suzuki",
          "Tata",
          "Tesla",
          "Toyota",
          "VAZ",
          "Volkswagen",
          "Volvo"
         ],
         "marker": {
          "coloraxis": "coloraxis",
          "colors": [
           947,
           1638,
           61,
           361,
           5303,
           3482,
           240,
           747,
           212,
           1307,
           116,
           16306,
           8,
           353,
           958,
           83,
           19,
           364,
           239,
           2405,
           4848,
           30,
           1227,
           51,
           3648,
           1358,
           24,
           36,
           1085,
           797,
           4695,
           7,
           1,
           143,
           413,
           1906,
           1528,
           64,
           125,
           221,
           8,
           629,
           2335,
           8,
           2698,
           880,
           3429,
           4541,
           4845,
           1244,
           5273,
           9,
           42,
           1490,
           62,
           9,
           857,
           537,
           697,
           728,
           81,
           482,
           3007,
           7,
           5550,
           1900
          ]
         },
         "name": "",
         "parents": [
          "",
          "",
          "",
          "",
          "",
          "",
          "",
          "",
          "",
          "",
          "",
          "",
          "",
          "",
          "",
          "",
          "",
          "",
          "",
          "",
          "",
          "",
          "",
          "",
          "",
          "",
          "",
          "",
          "",
          "",
          "",
          "",
          "",
          "",
          "",
          "",
          "",
          "",
          "",
          "",
          "",
          "",
          "",
          "",
          "",
          "",
          "",
          "",
          "",
          "",
          "",
          "",
          "",
          "",
          "",
          "",
          "",
          "",
          "",
          "",
          "",
          "",
          "",
          "",
          "",
          ""
         ],
         "type": "treemap",
         "values": [
          947,
          1638,
          61,
          361,
          5303,
          3482,
          240,
          747,
          212,
          1307,
          116,
          16306,
          8,
          353,
          958,
          83,
          19,
          364,
          239,
          2405,
          4848,
          30,
          1227,
          51,
          3648,
          1358,
          24,
          36,
          1085,
          797,
          4695,
          7,
          1,
          143,
          413,
          1906,
          1528,
          64,
          125,
          221,
          8,
          629,
          2335,
          8,
          2698,
          880,
          3429,
          4541,
          4845,
          1244,
          5273,
          9,
          42,
          1490,
          62,
          9,
          857,
          537,
          697,
          728,
          81,
          482,
          3007,
          7,
          5550,
          1900
         ]
        }
       ],
       "layout": {
        "coloraxis": {
         "colorbar": {
          "title": {
           "text": "count"
          }
         },
         "colorscale": [
          [
           0,
           "rgb(247,251,255)"
          ],
          [
           0.125,
           "rgb(222,235,247)"
          ],
          [
           0.25,
           "rgb(198,219,239)"
          ],
          [
           0.375,
           "rgb(158,202,225)"
          ],
          [
           0.5,
           "rgb(107,174,214)"
          ],
          [
           0.625,
           "rgb(66,146,198)"
          ],
          [
           0.75,
           "rgb(33,113,181)"
          ],
          [
           0.875,
           "rgb(8,81,156)"
          ],
          [
           1,
           "rgb(8,48,107)"
          ]
         ]
        },
        "legend": {
         "tracegroupgap": 0
        },
        "template": {
         "data": {
          "bar": [
           {
            "error_x": {
             "color": "#2a3f5f"
            },
            "error_y": {
             "color": "#2a3f5f"
            },
            "marker": {
             "line": {
              "color": "#E5ECF6",
              "width": 0.5
             },
             "pattern": {
              "fillmode": "overlay",
              "size": 10,
              "solidity": 0.2
             }
            },
            "type": "bar"
           }
          ],
          "barpolar": [
           {
            "marker": {
             "line": {
              "color": "#E5ECF6",
              "width": 0.5
             },
             "pattern": {
              "fillmode": "overlay",
              "size": 10,
              "solidity": 0.2
             }
            },
            "type": "barpolar"
           }
          ],
          "carpet": [
           {
            "aaxis": {
             "endlinecolor": "#2a3f5f",
             "gridcolor": "white",
             "linecolor": "white",
             "minorgridcolor": "white",
             "startlinecolor": "#2a3f5f"
            },
            "baxis": {
             "endlinecolor": "#2a3f5f",
             "gridcolor": "white",
             "linecolor": "white",
             "minorgridcolor": "white",
             "startlinecolor": "#2a3f5f"
            },
            "type": "carpet"
           }
          ],
          "choropleth": [
           {
            "colorbar": {
             "outlinewidth": 0,
             "ticks": ""
            },
            "type": "choropleth"
           }
          ],
          "contour": [
           {
            "colorbar": {
             "outlinewidth": 0,
             "ticks": ""
            },
            "colorscale": [
             [
              0,
              "#0d0887"
             ],
             [
              0.1111111111111111,
              "#46039f"
             ],
             [
              0.2222222222222222,
              "#7201a8"
             ],
             [
              0.3333333333333333,
              "#9c179e"
             ],
             [
              0.4444444444444444,
              "#bd3786"
             ],
             [
              0.5555555555555556,
              "#d8576b"
             ],
             [
              0.6666666666666666,
              "#ed7953"
             ],
             [
              0.7777777777777778,
              "#fb9f3a"
             ],
             [
              0.8888888888888888,
              "#fdca26"
             ],
             [
              1,
              "#f0f921"
             ]
            ],
            "type": "contour"
           }
          ],
          "contourcarpet": [
           {
            "colorbar": {
             "outlinewidth": 0,
             "ticks": ""
            },
            "type": "contourcarpet"
           }
          ],
          "heatmap": [
           {
            "colorbar": {
             "outlinewidth": 0,
             "ticks": ""
            },
            "colorscale": [
             [
              0,
              "#0d0887"
             ],
             [
              0.1111111111111111,
              "#46039f"
             ],
             [
              0.2222222222222222,
              "#7201a8"
             ],
             [
              0.3333333333333333,
              "#9c179e"
             ],
             [
              0.4444444444444444,
              "#bd3786"
             ],
             [
              0.5555555555555556,
              "#d8576b"
             ],
             [
              0.6666666666666666,
              "#ed7953"
             ],
             [
              0.7777777777777778,
              "#fb9f3a"
             ],
             [
              0.8888888888888888,
              "#fdca26"
             ],
             [
              1,
              "#f0f921"
             ]
            ],
            "type": "heatmap"
           }
          ],
          "heatmapgl": [
           {
            "colorbar": {
             "outlinewidth": 0,
             "ticks": ""
            },
            "colorscale": [
             [
              0,
              "#0d0887"
             ],
             [
              0.1111111111111111,
              "#46039f"
             ],
             [
              0.2222222222222222,
              "#7201a8"
             ],
             [
              0.3333333333333333,
              "#9c179e"
             ],
             [
              0.4444444444444444,
              "#bd3786"
             ],
             [
              0.5555555555555556,
              "#d8576b"
             ],
             [
              0.6666666666666666,
              "#ed7953"
             ],
             [
              0.7777777777777778,
              "#fb9f3a"
             ],
             [
              0.8888888888888888,
              "#fdca26"
             ],
             [
              1,
              "#f0f921"
             ]
            ],
            "type": "heatmapgl"
           }
          ],
          "histogram": [
           {
            "marker": {
             "pattern": {
              "fillmode": "overlay",
              "size": 10,
              "solidity": 0.2
             }
            },
            "type": "histogram"
           }
          ],
          "histogram2d": [
           {
            "colorbar": {
             "outlinewidth": 0,
             "ticks": ""
            },
            "colorscale": [
             [
              0,
              "#0d0887"
             ],
             [
              0.1111111111111111,
              "#46039f"
             ],
             [
              0.2222222222222222,
              "#7201a8"
             ],
             [
              0.3333333333333333,
              "#9c179e"
             ],
             [
              0.4444444444444444,
              "#bd3786"
             ],
             [
              0.5555555555555556,
              "#d8576b"
             ],
             [
              0.6666666666666666,
              "#ed7953"
             ],
             [
              0.7777777777777778,
              "#fb9f3a"
             ],
             [
              0.8888888888888888,
              "#fdca26"
             ],
             [
              1,
              "#f0f921"
             ]
            ],
            "type": "histogram2d"
           }
          ],
          "histogram2dcontour": [
           {
            "colorbar": {
             "outlinewidth": 0,
             "ticks": ""
            },
            "colorscale": [
             [
              0,
              "#0d0887"
             ],
             [
              0.1111111111111111,
              "#46039f"
             ],
             [
              0.2222222222222222,
              "#7201a8"
             ],
             [
              0.3333333333333333,
              "#9c179e"
             ],
             [
              0.4444444444444444,
              "#bd3786"
             ],
             [
              0.5555555555555556,
              "#d8576b"
             ],
             [
              0.6666666666666666,
              "#ed7953"
             ],
             [
              0.7777777777777778,
              "#fb9f3a"
             ],
             [
              0.8888888888888888,
              "#fdca26"
             ],
             [
              1,
              "#f0f921"
             ]
            ],
            "type": "histogram2dcontour"
           }
          ],
          "mesh3d": [
           {
            "colorbar": {
             "outlinewidth": 0,
             "ticks": ""
            },
            "type": "mesh3d"
           }
          ],
          "parcoords": [
           {
            "line": {
             "colorbar": {
              "outlinewidth": 0,
              "ticks": ""
             }
            },
            "type": "parcoords"
           }
          ],
          "pie": [
           {
            "automargin": true,
            "type": "pie"
           }
          ],
          "scatter": [
           {
            "fillpattern": {
             "fillmode": "overlay",
             "size": 10,
             "solidity": 0.2
            },
            "type": "scatter"
           }
          ],
          "scatter3d": [
           {
            "line": {
             "colorbar": {
              "outlinewidth": 0,
              "ticks": ""
             }
            },
            "marker": {
             "colorbar": {
              "outlinewidth": 0,
              "ticks": ""
             }
            },
            "type": "scatter3d"
           }
          ],
          "scattercarpet": [
           {
            "marker": {
             "colorbar": {
              "outlinewidth": 0,
              "ticks": ""
             }
            },
            "type": "scattercarpet"
           }
          ],
          "scattergeo": [
           {
            "marker": {
             "colorbar": {
              "outlinewidth": 0,
              "ticks": ""
             }
            },
            "type": "scattergeo"
           }
          ],
          "scattergl": [
           {
            "marker": {
             "colorbar": {
              "outlinewidth": 0,
              "ticks": ""
             }
            },
            "type": "scattergl"
           }
          ],
          "scattermapbox": [
           {
            "marker": {
             "colorbar": {
              "outlinewidth": 0,
              "ticks": ""
             }
            },
            "type": "scattermapbox"
           }
          ],
          "scatterpolar": [
           {
            "marker": {
             "colorbar": {
              "outlinewidth": 0,
              "ticks": ""
             }
            },
            "type": "scatterpolar"
           }
          ],
          "scatterpolargl": [
           {
            "marker": {
             "colorbar": {
              "outlinewidth": 0,
              "ticks": ""
             }
            },
            "type": "scatterpolargl"
           }
          ],
          "scatterternary": [
           {
            "marker": {
             "colorbar": {
              "outlinewidth": 0,
              "ticks": ""
             }
            },
            "type": "scatterternary"
           }
          ],
          "surface": [
           {
            "colorbar": {
             "outlinewidth": 0,
             "ticks": ""
            },
            "colorscale": [
             [
              0,
              "#0d0887"
             ],
             [
              0.1111111111111111,
              "#46039f"
             ],
             [
              0.2222222222222222,
              "#7201a8"
             ],
             [
              0.3333333333333333,
              "#9c179e"
             ],
             [
              0.4444444444444444,
              "#bd3786"
             ],
             [
              0.5555555555555556,
              "#d8576b"
             ],
             [
              0.6666666666666666,
              "#ed7953"
             ],
             [
              0.7777777777777778,
              "#fb9f3a"
             ],
             [
              0.8888888888888888,
              "#fdca26"
             ],
             [
              1,
              "#f0f921"
             ]
            ],
            "type": "surface"
           }
          ],
          "table": [
           {
            "cells": {
             "fill": {
              "color": "#EBF0F8"
             },
             "line": {
              "color": "white"
             }
            },
            "header": {
             "fill": {
              "color": "#C8D4E3"
             },
             "line": {
              "color": "white"
             }
            },
            "type": "table"
           }
          ]
         },
         "layout": {
          "annotationdefaults": {
           "arrowcolor": "#2a3f5f",
           "arrowhead": 0,
           "arrowwidth": 1
          },
          "autotypenumbers": "strict",
          "coloraxis": {
           "colorbar": {
            "outlinewidth": 0,
            "ticks": ""
           }
          },
          "colorscale": {
           "diverging": [
            [
             0,
             "#8e0152"
            ],
            [
             0.1,
             "#c51b7d"
            ],
            [
             0.2,
             "#de77ae"
            ],
            [
             0.3,
             "#f1b6da"
            ],
            [
             0.4,
             "#fde0ef"
            ],
            [
             0.5,
             "#f7f7f7"
            ],
            [
             0.6,
             "#e6f5d0"
            ],
            [
             0.7,
             "#b8e186"
            ],
            [
             0.8,
             "#7fbc41"
            ],
            [
             0.9,
             "#4d9221"
            ],
            [
             1,
             "#276419"
            ]
           ],
           "sequential": [
            [
             0,
             "#0d0887"
            ],
            [
             0.1111111111111111,
             "#46039f"
            ],
            [
             0.2222222222222222,
             "#7201a8"
            ],
            [
             0.3333333333333333,
             "#9c179e"
            ],
            [
             0.4444444444444444,
             "#bd3786"
            ],
            [
             0.5555555555555556,
             "#d8576b"
            ],
            [
             0.6666666666666666,
             "#ed7953"
            ],
            [
             0.7777777777777778,
             "#fb9f3a"
            ],
            [
             0.8888888888888888,
             "#fdca26"
            ],
            [
             1,
             "#f0f921"
            ]
           ],
           "sequentialminus": [
            [
             0,
             "#0d0887"
            ],
            [
             0.1111111111111111,
             "#46039f"
            ],
            [
             0.2222222222222222,
             "#7201a8"
            ],
            [
             0.3333333333333333,
             "#9c179e"
            ],
            [
             0.4444444444444444,
             "#bd3786"
            ],
            [
             0.5555555555555556,
             "#d8576b"
            ],
            [
             0.6666666666666666,
             "#ed7953"
            ],
            [
             0.7777777777777778,
             "#fb9f3a"
            ],
            [
             0.8888888888888888,
             "#fdca26"
            ],
            [
             1,
             "#f0f921"
            ]
           ]
          },
          "colorway": [
           "#636efa",
           "#EF553B",
           "#00cc96",
           "#ab63fa",
           "#FFA15A",
           "#19d3f3",
           "#FF6692",
           "#B6E880",
           "#FF97FF",
           "#FECB52"
          ],
          "font": {
           "color": "#2a3f5f"
          },
          "geo": {
           "bgcolor": "white",
           "lakecolor": "white",
           "landcolor": "#E5ECF6",
           "showlakes": true,
           "showland": true,
           "subunitcolor": "white"
          },
          "hoverlabel": {
           "align": "left"
          },
          "hovermode": "closest",
          "mapbox": {
           "style": "light"
          },
          "paper_bgcolor": "white",
          "plot_bgcolor": "#E5ECF6",
          "polar": {
           "angularaxis": {
            "gridcolor": "white",
            "linecolor": "white",
            "ticks": ""
           },
           "bgcolor": "#E5ECF6",
           "radialaxis": {
            "gridcolor": "white",
            "linecolor": "white",
            "ticks": ""
           }
          },
          "scene": {
           "xaxis": {
            "backgroundcolor": "#E5ECF6",
            "gridcolor": "white",
            "gridwidth": 2,
            "linecolor": "white",
            "showbackground": true,
            "ticks": "",
            "zerolinecolor": "white"
           },
           "yaxis": {
            "backgroundcolor": "#E5ECF6",
            "gridcolor": "white",
            "gridwidth": 2,
            "linecolor": "white",
            "showbackground": true,
            "ticks": "",
            "zerolinecolor": "white"
           },
           "zaxis": {
            "backgroundcolor": "#E5ECF6",
            "gridcolor": "white",
            "gridwidth": 2,
            "linecolor": "white",
            "showbackground": true,
            "ticks": "",
            "zerolinecolor": "white"
           }
          },
          "shapedefaults": {
           "line": {
            "color": "#2a3f5f"
           }
          },
          "ternary": {
           "aaxis": {
            "gridcolor": "white",
            "linecolor": "white",
            "ticks": ""
           },
           "baxis": {
            "gridcolor": "white",
            "linecolor": "white",
            "ticks": ""
           },
           "bgcolor": "#E5ECF6",
           "caxis": {
            "gridcolor": "white",
            "linecolor": "white",
            "ticks": ""
           }
          },
          "title": {
           "x": 0.05
          },
          "xaxis": {
           "automargin": true,
           "gridcolor": "white",
           "linecolor": "white",
           "ticks": "",
           "title": {
            "standoff": 15
           },
           "zerolinecolor": "white",
           "zerolinewidth": 2
          },
          "yaxis": {
           "automargin": true,
           "gridcolor": "white",
           "linecolor": "white",
           "ticks": "",
           "title": {
            "standoff": 15
           },
           "zerolinecolor": "white",
           "zerolinewidth": 2
          }
         }
        },
        "title": {
         "text": "Cantidad de Coches por Marca"
        }
       }
      }
     },
     "metadata": {},
     "output_type": "display_data"
    }
   ],
   "source": [
    "# Contar la cantidad de coches por marca\n",
    "make_counts = df['make'].value_counts().reset_index()\n",
    "\n",
    "# Renombrar las columnas para mayor claridad\n",
    "make_counts.columns = ['make', 'count']\n",
    "\n",
    "# Crear el treemap\n",
    "fig = px.treemap(make_counts, path=['make'], values='count', \n",
    "                 title='Cantidad de Coches por Marca',\n",
    "                 color='count', color_continuous_scale='Blues')\n",
    "\n",
    "# Mostrar el gráfico\n",
    "fig.show()"
   ]
  },
  {
   "cell_type": "markdown",
   "metadata": {},
   "source": [
    "Gráfico lineal de los coches anunciados por año de fabricación"
   ]
  },
  {
   "cell_type": "code",
   "execution_count": 36,
   "metadata": {},
   "outputs": [
    {
     "data": {
      "image/png": "[encoded data removed]",
      "text/plain": [
       "<Figure size 1200x600 with 1 Axes>"
      ]
     },
     "metadata": {},
     "output_type": "display_data"
    }
   ],
   "source": [
    "# Contar la cantidad de coches por año de fabricación\n",
    "year_counts = df['year'].value_counts().sort_index().reset_index()\n",
    "\n",
    "# Renombrar las columnas para mayor claridad\n",
    "year_counts.columns = ['year', 'count']\n",
    "\n",
    "# Crear el gráfico lineal\n",
    "plt.figure(figsize=(12, 6))\n",
    "plt.plot(year_counts['year'], year_counts['count'], marker='o', linestyle='-', color='b')\n",
    "plt.xlabel('Año de Fabricación')\n",
    "plt.ylabel('Cantidad de Coches Anunciados')\n",
    "plt.title('Número de Coches Anunciados por Año de Fabricación')\n",
    "plt.grid(True)\n",
    "plt.show()"
   ]
  },
  {
   "cell_type": "markdown",
   "metadata": {},
   "source": [
    "Gráfico circular según el tipo de cambio"
   ]
  },
  {
   "cell_type": "code",
   "execution_count": 40,
   "metadata": {},
   "outputs": [
    {
     "data": {
      "image/png": "[encoded data removed]",
      "text/plain": [
       "<Figure size 800x800 with 1 Axes>"
      ]
     },
     "metadata": {},
     "output_type": "display_data"
    }
   ],
   "source": [
    "# Contar la cantidad de coches por tipo de transmisión\n",
    "shift_counts = df['shift'].value_counts().reset_index()\n",
    "\n",
    "# Renombrar las columnas para mayor claridad\n",
    "shift_counts.columns = ['shift', 'count']\n",
    "\n",
    "# Crear el gráfico circular\n",
    "plt.figure(figsize=(8, 8))\n",
    "plt.pie(shift_counts['count'], labels=shift_counts['shift'], autopct='%1.1f%%', startangle=140, colors=['skyblue', 'lightgreen'])\n",
    "plt.title('Proporción de Coches Manuales y Automáticos')\n",
    "plt.axis('equal')  # Para asegurar que el gráfico sea circular\n",
    "plt.show()"
   ]
  }
 ],
 "metadata": {
  "kernelspec": {
   "display_name": "Python 3",
   "language": "python",
   "name": "python3"
  },
  "language_info": {
   "codemirror_mode": {
    "name": "ipython",
    "version": 3
   },
   "file_extension": ".py",
   "mimetype": "text/x-python",
   "name": "python",
   "nbconvert_exporter": "python",
   "pygments_lexer": "ipython3",
   "version": "3.10.11"
  }
 },
 "nbformat": 4,
 "nbformat_minor": 2
}
