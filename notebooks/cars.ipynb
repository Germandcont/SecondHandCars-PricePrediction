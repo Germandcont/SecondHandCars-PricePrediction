{
 "cells": [
  {
   "cell_type": "code",
   "execution_count": 375,
   "metadata": {},
   "outputs": [],
   "source": [
    "import pandas as pd\n",
    "import numpy as np"
   ]
  },
  {
   "cell_type": "markdown",
   "metadata": {},
   "source": [
    "## Load Data"
   ]
  },
  {
   "cell_type": "code",
   "execution_count": 376,
   "metadata": {},
   "outputs": [],
   "source": [
    "df = pd.read_csv(r'C:\\Users\\Germán\\Github\\Proyecto2\\data\\vehiculos-de-segunda-mano-sample.csv')"
   ]
  },
  {
   "cell_type": "code",
   "execution_count": 377,
   "metadata": {},
   "outputs": [
    {
     "data": {
      "text/html": [
       "<div>\n",
       "<style scoped>\n",
       "    .dataframe tbody tr th:only-of-type {\n",
       "        vertical-align: middle;\n",
       "    }\n",
       "\n",
       "    .dataframe tbody tr th {\n",
       "        vertical-align: top;\n",
       "    }\n",
       "\n",
       "    .dataframe thead th {\n",
       "        text-align: right;\n",
       "    }\n",
       "</style>\n",
       "<table border=\"1\" class=\"dataframe\">\n",
       "  <thead>\n",
       "    <tr style=\"text-align: right;\">\n",
       "      <th></th>\n",
       "      <th>vehicle_type</th>\n",
       "      <th>make</th>\n",
       "      <th>model</th>\n",
       "      <th>version</th>\n",
       "      <th>fuel</th>\n",
       "      <th>year</th>\n",
       "      <th>kms</th>\n",
       "      <th>power</th>\n",
       "      <th>doors</th>\n",
       "      <th>shift</th>\n",
       "      <th>color</th>\n",
       "      <th>photos</th>\n",
       "      <th>description</th>\n",
       "      <th>price</th>\n",
       "      <th>currency</th>\n",
       "      <th>location</th>\n",
       "      <th>publish_date</th>\n",
       "      <th>update_date</th>\n",
       "      <th>dealer_name</th>\n",
       "      <th>dealer_description</th>\n",
       "      <th>dealer_address</th>\n",
       "      <th>dealer_zip_code</th>\n",
       "      <th>dealer_city</th>\n",
       "      <th>dealer_country_code</th>\n",
       "      <th>dealer_is_professional</th>\n",
       "      <th>dealer_website</th>\n",
       "      <th>dealer_registered_at</th>\n",
       "      <th>date</th>\n",
       "    </tr>\n",
       "  </thead>\n",
       "  <tbody>\n",
       "    <tr>\n",
       "      <th>0</th>\n",
       "      <td>car</td>\n",
       "      <td>Opel</td>\n",
       "      <td>Crossland</td>\n",
       "      <td>1.2 GAS 110 GS Line 5p S/S</td>\n",
       "      <td>Gasolina</td>\n",
       "      <td>2022</td>\n",
       "      <td>5.0</td>\n",
       "      <td>110.0</td>\n",
       "      <td>NaN</td>\n",
       "      <td>manual</td>\n",
       "      <td>NaN</td>\n",
       "      <td>10</td>\n",
       "      <td>OFERTA EXCLUSIVA DE INTERNET \\nNuevo Opel Crossland GSLINE 1.2 Turbo Gasolina 110cv manual de 6 velocidades.\\nVehículo dotado del siguiente equipamiento:\\nNUEVO A ESTRENAR, MATRICULADO EN FECHA 31.08.2022 \\nFAROS ECOLED\\nNAVEGADOR 5.0 INTELILINK\\nPILOTOS TRASEROS LED\\nCÁMARA DELANTERA (Alerta de Cambio Involuntario de Carril)\\nPANTALLA INTELILLINK R4.0 7” CON APPLE CAR PLAY &amp; ANDROID AUTO\\nFRENOS DE DISCO DELANTEROS Y TRASEROS \\nLLANTAS SPORT 17” COLO NEGRO DIAMANTE\\nSENSOR APARCAMIENTO TRASERO\\nKIT ANTIPINCHAZOS\\nANCLAJES ISOFIX PLAZAS TRASERAS\\nASIENTO AGR  (ASIENTOS ERGONÓMICO)\\nELEVALUNAS TRASEROS Y DELANTEROS ELÉCTRICOS\\nCLIMATIZADOR DIGITAL BIZONA\\nCONS</td>\n",
       "      <td>22900</td>\n",
       "      <td>EUR</td>\n",
       "      <td>Pineda de Mar</td>\n",
       "      <td>2023-02-04</td>\n",
       "      <td>2023-02-04</td>\n",
       "      <td>Sergio Y.</td>\n",
       "      <td>NaN</td>\n",
       "      <td>2, Carrer de Jacint Benavente, Poblenou, Pineda de Mar, Maresme, Barcelona, Catalunya, 08397, España</td>\n",
       "      <td>8397.0</td>\n",
       "      <td>Pineda de Mar</td>\n",
       "      <td>ES</td>\n",
       "      <td>True</td>\n",
       "      <td>www.cocheauto.com</td>\n",
       "      <td>2017-01-18</td>\n",
       "      <td>2023-02-06</td>\n",
       "    </tr>\n",
       "  </tbody>\n",
       "</table>\n",
       "</div>"
      ],
      "text/plain": [
       "  vehicle_type  make      model                     version      fuel  year  \\\n",
       "0          car  Opel  Crossland  1.2 GAS 110 GS Line 5p S/S  Gasolina  2022   \n",
       "\n",
       "   kms  power  doors   shift  color  photos  \\\n",
       "0  5.0  110.0    NaN  manual    NaN      10   \n",
       "\n",
       "                                                                                                                                                                                                                                                                                                                                                                                                                                                                                                                                                                                                                                                                                   description  \\\n",
       "0  OFERTA EXCLUSIVA DE INTERNET \\nNuevo Opel Crossland GSLINE 1.2 Turbo Gasolina 110cv manual de 6 velocidades.\\nVehículo dotado del siguiente equipamiento:\\nNUEVO A ESTRENAR, MATRICULADO EN FECHA 31.08.2022 \\nFAROS ECOLED\\nNAVEGADOR 5.0 INTELILINK\\nPILOTOS TRASEROS LED\\nCÁMARA DELANTERA (Alerta de Cambio Involuntario de Carril)\\nPANTALLA INTELILLINK R4.0 7” CON APPLE CAR PLAY & ANDROID AUTO\\nFRENOS DE DISCO DELANTEROS Y TRASEROS \\nLLANTAS SPORT 17” COLO NEGRO DIAMANTE\\nSENSOR APARCAMIENTO TRASERO\\nKIT ANTIPINCHAZOS\\nANCLAJES ISOFIX PLAZAS TRASERAS\\nASIENTO AGR  (ASIENTOS ERGONÓMICO)\\nELEVALUNAS TRASEROS Y DELANTEROS ELÉCTRICOS\\nCLIMATIZADOR DIGITAL BIZONA\\nCONS   \n",
       "\n",
       "   price currency       location publish_date update_date dealer_name  \\\n",
       "0  22900      EUR  Pineda de Mar   2023-02-04  2023-02-04   Sergio Y.   \n",
       "\n",
       "  dealer_description  \\\n",
       "0                NaN   \n",
       "\n",
       "                                                                                         dealer_address  \\\n",
       "0  2, Carrer de Jacint Benavente, Poblenou, Pineda de Mar, Maresme, Barcelona, Catalunya, 08397, España   \n",
       "\n",
       "   dealer_zip_code    dealer_city dealer_country_code  dealer_is_professional  \\\n",
       "0           8397.0  Pineda de Mar                  ES                    True   \n",
       "\n",
       "      dealer_website dealer_registered_at        date  \n",
       "0  www.cocheauto.com           2017-01-18  2023-02-06  "
      ]
     },
     "execution_count": 377,
     "metadata": {},
     "output_type": "execute_result"
    }
   ],
   "source": [
    "df.head(1)"
   ]
  },
  {
   "cell_type": "markdown",
   "metadata": {},
   "source": [
    "## Duplicados"
   ]
  },
  {
   "cell_type": "code",
   "execution_count": 378,
   "metadata": {},
   "outputs": [],
   "source": [
    "# Eliminamos duplicados \n",
    "df = df.drop_duplicates()"
   ]
  },
  {
   "cell_type": "code",
   "execution_count": 379,
   "metadata": {},
   "outputs": [
    {
     "name": "stdout",
     "output_type": "stream",
     "text": [
      "(99763, 28)\n"
     ]
    }
   ],
   "source": [
    "print(df.shape)"
   ]
  },
  {
   "cell_type": "code",
   "execution_count": 380,
   "metadata": {},
   "outputs": [
    {
     "name": "stdout",
     "output_type": "stream",
     "text": [
      "Index(['vehicle_type', 'make', 'model', 'version', 'fuel', 'year', 'kms',\n",
      "       'power', 'doors', 'shift', 'color', 'photos', 'description', 'price',\n",
      "       'currency', 'location', 'publish_date', 'update_date', 'dealer_name',\n",
      "       'dealer_description', 'dealer_address', 'dealer_zip_code',\n",
      "       'dealer_city', 'dealer_country_code', 'dealer_is_professional',\n",
      "       'dealer_website', 'dealer_registered_at', 'date'],\n",
      "      dtype='object')\n"
     ]
    }
   ],
   "source": [
    "#Mostrar nombres de cada columna en una lista\n",
    "print(df.columns)\n"
   ]
  },
  {
   "cell_type": "markdown",
   "metadata": {},
   "source": [
    "Drop columns"
   ]
  },
  {
   "cell_type": "code",
   "execution_count": 381,
   "metadata": {},
   "outputs": [],
   "source": [
    "#Drop 'vehicle_type','doors','color','photos', 'description','currency','update_date','dealer_description','dealer_address', 'dealer_zip_code','dealer_is_professional','dealer_city', 'dealer_country_code','dealer_website','dealer_registered_at', 'date'\n",
    "df = df.drop(['dealer_name','vehicle_type','doors','color','photos', 'description','currency','update_date','dealer_description','dealer_address','dealer_is_professional','dealer_city', 'dealer_country_code','dealer_website','dealer_registered_at', 'date'], axis=1)"
   ]
  },
  {
   "cell_type": "markdown",
   "metadata": {},
   "source": [
    "## Nulls"
   ]
  },
  {
   "cell_type": "code",
   "execution_count": 391,
   "metadata": {},
   "outputs": [
    {
     "data": {
      "text/plain": [
       "make               0.000000\n",
       "model              0.000000\n",
       "version            0.000000\n",
       "fuel               0.000000\n",
       "year               0.000000\n",
       "kms                0.000000\n",
       "power              0.000000\n",
       "shift              0.000000\n",
       "price              0.000000\n",
       "location           0.000000\n",
       "publish_date       0.000000\n",
       "dealer_zip_code    0.093121\n",
       "dtype: float64"
      ]
     },
     "execution_count": 391,
     "metadata": {},
     "output_type": "execute_result"
    }
   ],
   "source": [
    "#Mostramos los nulos en porcetaje con relacion al total por cada fila \n",
    "df.isnull().sum()/df.shape[0]*100"
   ]
  },
  {
   "cell_type": "markdown",
   "metadata": {},
   "source": [
    "### Drop nulls from version and kms"
   ]
  },
  {
   "cell_type": "code",
   "execution_count": 383,
   "metadata": {},
   "outputs": [],
   "source": [
    "#Drop nuls de \"verion\", kms, power,dealer_name\n",
    "df = df.dropna(subset=['version', 'kms'])"
   ]
  },
  {
   "cell_type": "markdown",
   "metadata": {},
   "source": [
    "### Fixing Fuel, Power and Shift"
   ]
  },
  {
   "cell_type": "code",
   "execution_count": 384,
   "metadata": {},
   "outputs": [
    {
     "name": "stderr",
     "output_type": "stream",
     "text": [
      "c:\\Users\\Germán\\AppData\\Local\\Programs\\Python\\Python312\\Lib\\site-packages\\numpy\\lib\\_nanfunctions_impl.py:1231: RuntimeWarning: Mean of empty slice\n",
      "  return np.nanmean(a, axis, out=out, keepdims=keepdims)\n"
     ]
    }
   ],
   "source": [
    "#Lista de variables a rellenar\n",
    "variables = ['fuel', 'power', 'shift']\n",
    " \n",
    "# Función para calcular la moda o mediana por modelo\n",
    "def calculate_stat_by_model(df, var):\n",
    "    if var == 'power':\n",
    "        return df.groupby('model')[var].transform(lambda x: x.median() if not pd.isna(x.median()) else None)\n",
    "    else:\n",
    "        return df.groupby('model')[var].transform(lambda x: x.mode()[0] if not x.mode().empty else None)\n",
    " \n",
    "# Función para rellenar los valores nulos\n",
    "def fill_missing_values(df, var):\n",
    "    stat_by_model = calculate_stat_by_model(df, var)\n",
    "    df[var] = df[var].fillna(stat_by_model)\n",
    "    return df\n",
    " \n",
    "# Aplicar la función para cada variable\n",
    "for var in variables:\n",
    "    df = fill_missing_values(df, var)"
   ]
  },
  {
   "cell_type": "code",
   "execution_count": 389,
   "metadata": {},
   "outputs": [
    {
     "name": "stdout",
     "output_type": "stream",
     "text": [
      "Shift Nulls:\n",
      "Series([], Name: count, dtype: int64)\n",
      "\n",
      "Power Nulls:\n",
      "Series([], Name: count, dtype: int64)\n",
      "\n",
      "Fuel Nulls:\n",
      "Series([], Name: count, dtype: int64)\n"
     ]
    }
   ],
   "source": [
    "pd.set_option('display.max_rows', None)\n",
    "pd.set_option('display.max_columns', None)\n",
    "pd.set_option('display.width', None)\n",
    "pd.set_option('display.max_colwidth', None)\n",
    " \n",
    "# Mostrar el resultado completo para 'shift'\n",
    "shift_nulls = df[df['shift'].isnull()][['make', 'model']].value_counts()\n",
    "print(\"Shift Nulls:\")\n",
    "print(shift_nulls)\n",
    "\n",
    "# Mostrar el resultado completo para 'power'\n",
    "power_nulls = df[df['power'].isnull()][['make', 'model']].value_counts()\n",
    "print(\"\\nPower Nulls:\")\n",
    "print(power_nulls)\n",
    "\n",
    "# Mostrar el resultado completo para 'fuel'\n",
    "fuel_nulls = df[df['fuel'].isnull()][['make', 'model']].value_counts()\n",
    "print(\"\\nFuel Nulls:\")\n",
    "print(fuel_nulls)"
   ]
  },
  {
   "cell_type": "code",
   "execution_count": 386,
   "metadata": {},
   "outputs": [],
   "source": [
    "#Rellenamos citroen e-jumpy con 100\n",
    "df.loc[(df['make'] == 'Citroen') & (df['model'] == 'ë-Jumpy'), 'power'] = 100"
   ]
  },
  {
   "cell_type": "code",
   "execution_count": 387,
   "metadata": {},
   "outputs": [],
   "source": [
    "#Rellenamos Lotus Esprit con manual\n",
    "df.loc[(df['make'] == 'Lotus') & (df['model'] == 'Esprit'), 'shift'] = \"manual\""
   ]
  },
  {
   "cell_type": "code",
   "execution_count": 388,
   "metadata": {},
   "outputs": [],
   "source": [
    "modelos = \"LaFerrari\",\"Indigo\",\"Esprit\"\n",
    "df.loc[df['model'].isin(modelos), 'fuel'] = 'Gasolina'"
   ]
  },
  {
   "cell_type": "markdown",
   "metadata": {},
   "source": [
    "# Zip code"
   ]
  },
  {
   "cell_type": "code",
   "execution_count": 394,
   "metadata": {},
   "outputs": [
    {
     "name": "stdout",
     "output_type": "stream",
     "text": [
      "0\n"
     ]
    }
   ],
   "source": [
    "#Mostramos la cantidad de filas donde dealer_zip_code es nulo\n",
    "print(df['dealer_zip_code'].isnull().sum())"
   ]
  },
  {
   "cell_type": "code",
   "execution_count": 393,
   "metadata": {},
   "outputs": [],
   "source": [
    "#Drop dealer_zip_code nulls\n",
    "df = df.dropna(subset=['dealer_zip_code'])"
   ]
  },
  {
   "cell_type": "code",
   "execution_count": 367,
   "metadata": {},
   "outputs": [
    {
     "data": {
      "text/html": [
       "<div>\n",
       "<style scoped>\n",
       "    .dataframe tbody tr th:only-of-type {\n",
       "        vertical-align: middle;\n",
       "    }\n",
       "\n",
       "    .dataframe tbody tr th {\n",
       "        vertical-align: top;\n",
       "    }\n",
       "\n",
       "    .dataframe thead th {\n",
       "        text-align: right;\n",
       "    }\n",
       "</style>\n",
       "<table border=\"1\" class=\"dataframe\">\n",
       "  <thead>\n",
       "    <tr style=\"text-align: right;\">\n",
       "      <th></th>\n",
       "      <th>make</th>\n",
       "      <th>model</th>\n",
       "      <th>version</th>\n",
       "      <th>fuel</th>\n",
       "      <th>year</th>\n",
       "      <th>kms</th>\n",
       "      <th>power</th>\n",
       "      <th>shift</th>\n",
       "      <th>price</th>\n",
       "      <th>location</th>\n",
       "      <th>publish_date</th>\n",
       "      <th>dealer_zip_code</th>\n",
       "    </tr>\n",
       "  </thead>\n",
       "  <tbody>\n",
       "  </tbody>\n",
       "</table>\n",
       "</div>"
      ],
      "text/plain": [
       "Empty DataFrame\n",
       "Columns: [make, model, version, fuel, year, kms, power, shift, price, location, publish_date, dealer_zip_code]\n",
       "Index: []"
      ]
     },
     "execution_count": 367,
     "metadata": {},
     "output_type": "execute_result"
    }
   ],
   "source": [
    "# df[df['dealer_zip_code']=='Parque Empresarial San Fernando de Henares'].fillna('28830')\n",
    "# df[df['dealer_zip_code']=='Collado Villalba'].fillna('28400')\n",
    "# df[df['dealer_zip_code']=='Elx/Elche'].fillna('03203')"
   ]
  },
  {
   "cell_type": "markdown",
   "metadata": {},
   "source": [
    "# Dtypes"
   ]
  },
  {
   "cell_type": "code",
   "execution_count": 397,
   "metadata": {},
   "outputs": [
    {
     "data": {
      "text/plain": [
       "make                       object\n",
       "model                      object\n",
       "version                    object\n",
       "fuel                       object\n",
       "year                        int64\n",
       "kms                       float64\n",
       "power                     float64\n",
       "shift                      object\n",
       "price                       int64\n",
       "location                   object\n",
       "publish_date       datetime64[ns]\n",
       "dealer_zip_code           float64\n",
       "dtype: object"
      ]
     },
     "execution_count": 397,
     "metadata": {},
     "output_type": "execute_result"
    }
   ],
   "source": [
    "df.dtypes"
   ]
  },
  {
   "cell_type": "code",
   "execution_count": 396,
   "metadata": {},
   "outputs": [],
   "source": [
    "#Publish date to datetime\n",
    "df['publish_date'] = pd.to_datetime(df['publish_date'])"
   ]
  },
  {
   "cell_type": "markdown",
   "metadata": {},
   "source": [
    "# Getting location latitud and longitude"
   ]
  }
 ],
 "metadata": {
  "kernelspec": {
   "display_name": "Python 3",
   "language": "python",
   "name": "python3"
  },
  "language_info": {
   "codemirror_mode": {
    "name": "ipython",
    "version": 3
   },
   "file_extension": ".py",
   "mimetype": "text/x-python",
   "name": "python",
   "nbconvert_exporter": "python",
   "pygments_lexer": "ipython3",
   "version": "3.12.7"
  }
 },
 "nbformat": 4,
 "nbformat_minor": 2
}
